{
 "cells": [
  {
   "cell_type": "markdown",
   "metadata": {},
   "source": [
    "#### code for Combined Chart + Normal Features DNN"
   ]
  },
  {
   "cell_type": "code",
   "execution_count": 1,
   "metadata": {
    "scrolled": true
   },
   "outputs": [
    {
     "name": "stderr",
     "output_type": "stream",
     "text": [
      "/Users/rajeshpothamsetty/anaconda3/lib/python3.6/site-packages/h5py/__init__.py:36: FutureWarning: Conversion of the second argument of issubdtype from `float` to `np.floating` is deprecated. In future, it will be treated as `np.float64 == np.dtype(float).type`.\n",
      "  from ._conv import register_converters as _register_converters\n",
      "Using TensorFlow backend.\n"
     ]
    }
   ],
   "source": [
    "from keras.models import Sequential\n",
    "from keras.layers import Dense, Dropout, Masking, Input\n",
    "from keras.wrappers.scikit_learn import KerasClassifier\n",
    "from keras import optimizers\n",
    "from keras.constraints import maxnorm\n",
    "from keras.callbacks import ModelCheckpoint, LearningRateScheduler, Callback\n",
    "from sklearn.model_selection import StratifiedKFold\n",
    "from sklearn.model_selection import cross_val_score\n",
    "from sklearn.model_selection import GridSearchCV\n",
    "from sklearn.preprocessing import StandardScaler\n",
    "from sklearn.pipeline import Pipeline\n",
    "from keras.models import model_from_json\n",
    "from keras.callbacks import History, CSVLogger\n",
    "from keras.utils import plot_model\n",
    "import keras.backend as K\n",
    "from keras.losses import binary_crossentropy\n",
    "import matplotlib.pyplot as plt\n",
    "import numpy as np\n",
    "import json\n",
    "import pandas as pd\n",
    "import pickle\n",
    "csv_logger = CSVLogger('training.log')"
   ]
  },
  {
   "cell_type": "code",
   "execution_count": 30,
   "metadata": {},
   "outputs": [],
   "source": [
    "#below can path can be set to any folder if extracting Phenotype score rather than using pre-extracted.\n",
    "phenotype_features = '/Users/rajeshpothamsetty/Dropbox/Rajesh_DB/IMP_Dropbox/OMSCS/BigData/' #phenotype\n",
    "#below are results folders from Scala/Spark\n",
    "feature_chart_normf = '/Users/rajeshpothamsetty/Downloads/Results_update/all_features/' #mengnan"
   ]
  },
  {
   "cell_type": "code",
   "execution_count": 31,
   "metadata": {},
   "outputs": [],
   "source": [
    "phenotype_train = pd.read_csv( phenotype_features +'phenotype_train.csv', delimiter=\",\", header= 0)[['ICUSTAY_ID', 'Phentotype_Score']]\n",
    "phenotype_test = pd.read_csv( phenotype_features +'phenotype_test.csv', delimiter=\",\", header= 0)[['ICUSTAY_ID', 'Phentotype_Score']]"
   ]
  },
  {
   "cell_type": "code",
   "execution_count": 32,
   "metadata": {},
   "outputs": [],
   "source": [
    "seed = 7\n",
    "np.random.seed(seed)"
   ]
  },
  {
   "cell_type": "code",
   "execution_count": 33,
   "metadata": {},
   "outputs": [],
   "source": [
    "dataset_df = pd.read_csv(feature_chart_normf +\"feature_value_with_masks.txt\", delimiter=\",\", header= None)"
   ]
  },
  {
   "cell_type": "code",
   "execution_count": 34,
   "metadata": {},
   "outputs": [],
   "source": [
    "dataset_df[0].replace('', np.nan, inplace=True)\n",
    "dataset_df.dropna(subset=[0], inplace=True)\n",
    "dataset_df[0] = pd.to_numeric(dataset_df[0])\n",
    "dataset_df[0] = dataset_df[0].astype(int)"
   ]
  },
  {
   "cell_type": "code",
   "execution_count": 35,
   "metadata": {},
   "outputs": [],
   "source": [
    "dataset_df.head()\n",
    "colnames = dataset_df.columns\n",
    "dataset_df = dataset_df.rename(columns = {0 : 'ICUSTAY_ID'}) "
   ]
  },
  {
   "cell_type": "code",
   "execution_count": 36,
   "metadata": {},
   "outputs": [],
   "source": [
    "# merging to separate train/test\n",
    "dataset_train_merge = pd.merge(dataset_df, phenotype_train, how = 'inner', left_on = 'ICUSTAY_ID', right_on = 'ICUSTAY_ID')\n",
    "dataset_test_merge = pd.merge(dataset_df, phenotype_test, how = 'inner', left_on = 'ICUSTAY_ID', right_on = 'ICUSTAY_ID')"
   ]
  },
  {
   "cell_type": "code",
   "execution_count": 37,
   "metadata": {},
   "outputs": [],
   "source": [
    "dataset_train = dataset_train_merge.values\n",
    "dataset_test = dataset_test_merge.values"
   ]
  },
  {
   "cell_type": "code",
   "execution_count": 38,
   "metadata": {},
   "outputs": [],
   "source": [
    "Y1 = dataset_train[:,5367]\n",
    "X1 = np.delete(dataset_train, 5367, axis=1)\n",
    "X1 = np.delete(X1, 0, axis=1)"
   ]
  },
  {
   "cell_type": "code",
   "execution_count": 39,
   "metadata": {},
   "outputs": [
    {
     "name": "stderr",
     "output_type": "stream",
     "text": [
      "/Users/rajeshpothamsetty/anaconda3/lib/python3.6/site-packages/ipykernel_launcher.py:3: FutureWarning: elementwise comparison failed; returning scalar instead, but in the future will perform elementwise comparison\n",
      "  This is separate from the ipykernel package so we can avoid doing imports until\n"
     ]
    }
   ],
   "source": [
    "X1[X1 == np.nan] = '-10'\n",
    "X1 = X1.astype(float)\n",
    "Y1[Y1 == ''] = '0.0'\n",
    "Y1 = Y1.astype(float)"
   ]
  },
  {
   "cell_type": "code",
   "execution_count": 40,
   "metadata": {},
   "outputs": [],
   "source": [
    "from numpy import *\n",
    "X1[isnan(X1)] = '-10'\n",
    "X1 = X1.astype(float)"
   ]
  },
  {
   "cell_type": "code",
   "execution_count": 41,
   "metadata": {},
   "outputs": [
    {
     "name": "stdout",
     "output_type": "stream",
     "text": [
      "(35942, 13045)\n"
     ]
    }
   ],
   "source": [
    "print(X1.shape)"
   ]
  },
  {
   "cell_type": "markdown",
   "metadata": {},
   "source": [
    "Nesterov momentum is a different version of the momentum method which has stronger theoretical converge guarantees for convex functions. In practice, it works slightly better than standard momentum.  \n",
    "Need to look in to optimal lr for dropout (i think gridsearch will figure this out)"
   ]
  },
  {
   "cell_type": "markdown",
   "metadata": {},
   "source": [
    "In the original paper on dropout, it is recommended to have constraint on maximum norm of the weights\n",
    "\n",
    "#####tips for performance increment with dropout\n",
    "Good to have larger networks when using dropout.    \n",
    "dropout between each layers\n",
    "Use a large learning rate with decay and a large momentum. Increase your learning rate by a factor of 10 to 100 and use a high momentum value of 0.9 or 0.99.\n",
    "Constrain the size of network weights. A large learning rate can result in very large network weights. Imposing a constraint on the size of network weights such as max-norm regularization with a size of 4 or 5 has been shown to improve results."
   ]
  },
  {
   "cell_type": "raw",
   "metadata": {},
   "source": [
    "SGD Vs Adam\n",
    "learning_rate --> alpha; decay --> beta_1; momentum --> beta_2"
   ]
  },
  {
   "cell_type": "code",
   "execution_count": 42,
   "metadata": {},
   "outputs": [],
   "source": [
    "def create_model_with_dropout_new(loss, optimizer, init, learning_rate = 0, decay = 0, momentum = 0.8, dropout = 0.2):\n",
    "\n",
    "    def weighted_binary_crossentropy(y_true, y_pred):\n",
    "        one_weight = 0.91\n",
    "        zero_weight = 0.09\n",
    "        b_ce = binary_crossentropy(y_true, y_pred)\n",
    "        weight_vector = y_true * one_weight + (1. - y_true) * zero_weight\n",
    "        weighted_b_ce = weight_vector * b_ce\n",
    "        return K.mean(weighted_b_ce)\n",
    "\n",
    "    # create model\n",
    "    model = Sequential()\n",
    "    model.add(Dropout(dropout, input_shape=(13045,)))\n",
    "    model.add(Dense(6000, kernel_initializer='normal', activation='relu', kernel_constraint=maxnorm(3)))\n",
    "    model.add(Dropout(dropout))\n",
    "    model.add(Dense(3000, kernel_initializer='normal', activation='relu', kernel_constraint=maxnorm(3)))\n",
    "    model.add(Dropout(dropout))\n",
    "    model.add(Dense(1500, kernel_initializer='normal', activation='relu', kernel_constraint=maxnorm(3)))\n",
    "    model.add(Dropout(dropout))\n",
    "    model.add(Dense(700, kernel_initializer='normal', activation='relu', kernel_constraint=maxnorm(3)))\n",
    "    model.add(Dense(300, kernel_initializer='normal', activation='relu', kernel_constraint=maxnorm(3)))\n",
    "    model.add(Dense(100, kernel_initializer='normal', activation='relu', kernel_constraint=maxnorm(3)))\n",
    "    model.add(Dense(50, kernel_initializer='normal', activation='relu', kernel_constraint=maxnorm(3)))\n",
    "    model.add(Dense(1, kernel_initializer='normal', activation='sigmoid'))\n",
    "   \n",
    "    # setting SGD params\n",
    "    if (optimizer == 'sgd'):\n",
    "        optim_algo = optimizers.SGD(lr= learning_rate, decay = decay, momentum = momentum, nesterov = True)\n",
    "    elif (optimizer == 'adam'):\n",
    "        # Keras default: lr=0.001, beta_1=0.9, beta_2=0.999, epsilon=1e-08, decay=0.0.\n",
    "        optim_algo = optimizers.adam(lr = learning_rate, beta_1 = decay, beta_2 = momentum, epsilon = 10E-8)\n",
    "    else:\n",
    "        optim_algo = optimizer\n",
    "        \n",
    "    # Compile model\n",
    "    model.compile(loss = weighted_binary_crossentropy, optimizer= optim_algo, metrics=['accuracy', 'mae', 'categorical_accuracy'])\n",
    "    return model "
   ]
  },
  {
   "cell_type": "code",
   "execution_count": 43,
   "metadata": {},
   "outputs": [],
   "source": [
    "# setting up the Grid Params\n",
    "# In our test runs, 'adam' optimizer was found to be the best optimizer with it's standard settings without much tuning\n",
    "optimizer_list = ['adam', 'sgd'] #Adadelta, Adagrad\n",
    "init_list = ['glorot_uniform', 'normal', 'uniform']\n",
    "loss_list = ['weighted_binary_crossentropy']"
   ]
  },
  {
   "cell_type": "code",
   "execution_count": 19,
   "metadata": {},
   "outputs": [
    {
     "name": "stdout",
     "output_type": "stream",
     "text": [
      "Epoch 1/10\n",
      "28753/28753 [==============================] - 155s 5ms/step - loss: 0.0694 - acc: 0.8645 - mean_absolute_error: 0.1858 - categorical_accuracy: 1.0000\n",
      "Epoch 2/10\n",
      "28753/28753 [==============================] - 152s 5ms/step - loss: 0.0366 - acc: 0.9210 - mean_absolute_error: 0.1167 - categorical_accuracy: 1.0000\n",
      "Epoch 3/10\n",
      "28753/28753 [==============================] - 146s 5ms/step - loss: 0.0278 - acc: 0.9425 - mean_absolute_error: 0.0880 - categorical_accuracy: 1.0000\n",
      "Epoch 4/10\n",
      "28753/28753 [==============================] - 154s 5ms/step - loss: 0.0230 - acc: 0.9529 - mean_absolute_error: 0.0727 - categorical_accuracy: 1.0000\n",
      "Epoch 5/10\n",
      "28753/28753 [==============================] - 153s 5ms/step - loss: 0.0207 - acc: 0.9592 - mean_absolute_error: 0.0636 - categorical_accuracy: 1.0000\n",
      "Epoch 6/10\n",
      "28753/28753 [==============================] - 142s 5ms/step - loss: 0.0189 - acc: 0.9632 - mean_absolute_error: 0.0586 - categorical_accuracy: 1.0000\n",
      "Epoch 7/10\n",
      "28753/28753 [==============================] - 150s 5ms/step - loss: 0.0178 - acc: 0.9645 - mean_absolute_error: 0.0547 - categorical_accuracy: 1.0000\n",
      "Epoch 8/10\n",
      "28753/28753 [==============================] - 149s 5ms/step - loss: 0.0174 - acc: 0.9667 - mean_absolute_error: 0.0535 - categorical_accuracy: 1.0000\n",
      "Epoch 9/10\n",
      "28753/28753 [==============================] - 147s 5ms/step - loss: 0.0163 - acc: 0.9683 - mean_absolute_error: 0.0490 - categorical_accuracy: 1.0000\n",
      "Epoch 10/10\n",
      "28753/28753 [==============================] - 148s 5ms/step - loss: 0.0155 - acc: 0.9693 - mean_absolute_error: 0.0474 - categorical_accuracy: 1.0000\n",
      "7189/7189 [==============================] - 12s 2ms/step\n",
      "28753/28753 [==============================] - 44s 2ms/step\n",
      "Epoch 1/10\n",
      "28753/28753 [==============================] - 158s 5ms/step - loss: 0.0658 - acc: 0.8622 - mean_absolute_error: 0.1783 - categorical_accuracy: 1.0000\n",
      "Epoch 2/10\n",
      "28753/28753 [==============================] - 156s 5ms/step - loss: 0.0347 - acc: 0.9247 - mean_absolute_error: 0.1158 - categorical_accuracy: 1.0000\n",
      "Epoch 3/10\n",
      "28753/28753 [==============================] - 156s 5ms/step - loss: 0.0270 - acc: 0.9447 - mean_absolute_error: 0.0859 - categorical_accuracy: 1.0000\n",
      "Epoch 4/10\n",
      "28753/28753 [==============================] - 157s 5ms/step - loss: 0.0239 - acc: 0.9520 - mean_absolute_error: 0.0748 - categorical_accuracy: 1.0000\n",
      "Epoch 5/10\n",
      "28753/28753 [==============================] - 156s 5ms/step - loss: 0.0212 - acc: 0.9568 - mean_absolute_error: 0.0663 - categorical_accuracy: 1.0000\n",
      "Epoch 6/10\n",
      "28753/28753 [==============================] - 159s 6ms/step - loss: 0.0192 - acc: 0.9616 - mean_absolute_error: 0.0602 - categorical_accuracy: 1.0000\n",
      "Epoch 7/10\n",
      "28753/28753 [==============================] - 151s 5ms/step - loss: 0.0178 - acc: 0.9639 - mean_absolute_error: 0.0558 - categorical_accuracy: 1.0000\n",
      "Epoch 8/10\n",
      "28753/28753 [==============================] - 157s 5ms/step - loss: 0.0157 - acc: 0.9690 - mean_absolute_error: 0.0478 - categorical_accuracy: 1.0000\n",
      "Epoch 9/10\n",
      "28753/28753 [==============================] - 157s 5ms/step - loss: 0.0152 - acc: 0.9705 - mean_absolute_error: 0.0469 - categorical_accuracy: 1.0000\n",
      "Epoch 10/10\n",
      "28753/28753 [==============================] - 155s 5ms/step - loss: 0.0147 - acc: 0.9710 - mean_absolute_error: 0.0443 - categorical_accuracy: 1.0000\n",
      "7189/7189 [==============================] - 12s 2ms/step\n",
      "28753/28753 [==============================] - 47s 2ms/step\n",
      "Epoch 1/10\n",
      "28754/28754 [==============================] - 155s 5ms/step - loss: 0.1012 - acc: 0.8498 - mean_absolute_error: 0.1919 - categorical_accuracy: 1.0000\n",
      "Epoch 2/10\n",
      "28754/28754 [==============================] - 165s 6ms/step - loss: 0.0385 - acc: 0.9128 - mean_absolute_error: 0.1288 - categorical_accuracy: 1.0000\n",
      "Epoch 3/10\n",
      "28754/28754 [==============================] - 162s 6ms/step - loss: 0.0293 - acc: 0.9409 - mean_absolute_error: 0.0931 - categorical_accuracy: 1.0000\n",
      "Epoch 4/10\n",
      "28754/28754 [==============================] - 156s 5ms/step - loss: 0.0235 - acc: 0.9526 - mean_absolute_error: 0.0741 - categorical_accuracy: 1.0000\n",
      "Epoch 5/10\n",
      "28754/28754 [==============================] - 158s 5ms/step - loss: 0.0213 - acc: 0.9567 - mean_absolute_error: 0.0673 - categorical_accuracy: 1.0000\n",
      "Epoch 6/10\n",
      "28754/28754 [==============================] - 147s 5ms/step - loss: 0.0192 - acc: 0.9613 - mean_absolute_error: 0.0599 - categorical_accuracy: 1.0000\n",
      "Epoch 7/10\n",
      "28754/28754 [==============================] - 140s 5ms/step - loss: 0.0177 - acc: 0.9652 - mean_absolute_error: 0.0547 - categorical_accuracy: 1.0000\n",
      "Epoch 8/10\n",
      "28754/28754 [==============================] - 140s 5ms/step - loss: 0.0171 - acc: 0.9668 - mean_absolute_error: 0.0515 - categorical_accuracy: 1.0000\n",
      "Epoch 9/10\n",
      "28754/28754 [==============================] - 139s 5ms/step - loss: 0.0158 - acc: 0.9695 - mean_absolute_error: 0.0476 - categorical_accuracy: 1.0000\n",
      "Epoch 10/10\n",
      "28754/28754 [==============================] - 139s 5ms/step - loss: 0.0153 - acc: 0.9700 - mean_absolute_error: 0.0475 - categorical_accuracy: 1.0000\n",
      "7188/7188 [==============================] - 11s 2ms/step\n",
      "28754/28754 [==============================] - 42s 1ms/step\n",
      "Epoch 1/10\n",
      "28754/28754 [==============================] - 138s 5ms/step - loss: 0.0819 - acc: 0.8531 - mean_absolute_error: 0.1978 - categorical_accuracy: 1.0000\n",
      "Epoch 2/10\n",
      "28754/28754 [==============================] - 141s 5ms/step - loss: 0.0386 - acc: 0.9122 - mean_absolute_error: 0.1298 - categorical_accuracy: 1.0000\n",
      "Epoch 3/10\n",
      "28754/28754 [==============================] - 142s 5ms/step - loss: 0.0285 - acc: 0.9403 - mean_absolute_error: 0.0916 - categorical_accuracy: 1.0000\n",
      "Epoch 4/10\n",
      "28754/28754 [==============================] - 140s 5ms/step - loss: 0.0249 - acc: 0.9494 - mean_absolute_error: 0.0787 - categorical_accuracy: 1.0000\n",
      "Epoch 5/10\n",
      "28754/28754 [==============================] - 139s 5ms/step - loss: 0.0215 - acc: 0.9563 - mean_absolute_error: 0.0676 - categorical_accuracy: 1.0000\n",
      "Epoch 6/10\n",
      "28754/28754 [==============================] - 153s 5ms/step - loss: 0.0201 - acc: 0.9583 - mean_absolute_error: 0.0631 - categorical_accuracy: 1.0000\n",
      "Epoch 7/10\n",
      "28754/28754 [==============================] - 160s 6ms/step - loss: 0.0175 - acc: 0.9649 - mean_absolute_error: 0.0544 - categorical_accuracy: 1.0000\n",
      "Epoch 8/10\n",
      "28754/28754 [==============================] - 156s 5ms/step - loss: 0.0162 - acc: 0.9673 - mean_absolute_error: 0.0506 - categorical_accuracy: 1.0000\n",
      "Epoch 9/10\n",
      "28754/28754 [==============================] - 159s 6ms/step - loss: 0.0161 - acc: 0.9682 - mean_absolute_error: 0.0503 - categorical_accuracy: 1.0000\n",
      "Epoch 10/10\n",
      "28754/28754 [==============================] - 157s 5ms/step - loss: 0.0144 - acc: 0.9716 - mean_absolute_error: 0.0447 - categorical_accuracy: 1.0000\n",
      "7188/7188 [==============================] - 12s 2ms/step\n",
      "28754/28754 [==============================] - 47s 2ms/step\n",
      "Epoch 1/10\n",
      "28754/28754 [==============================] - 156s 5ms/step - loss: 0.2515 - acc: 0.8405 - mean_absolute_error: 0.1762 - categorical_accuracy: 1.0000\n",
      "Epoch 2/10\n",
      "28754/28754 [==============================] - 154s 5ms/step - loss: 0.1920 - acc: 0.8794 - mean_absolute_error: 0.1465 - categorical_accuracy: 1.0000\n",
      "Epoch 3/10\n",
      "28754/28754 [==============================] - 154s 5ms/step - loss: 0.1473 - acc: 0.9012 - mean_absolute_error: 0.1227 - categorical_accuracy: 1.0000\n",
      "Epoch 4/10\n",
      "28754/28754 [==============================] - 162s 6ms/step - loss: 0.1396 - acc: 0.9208 - mean_absolute_error: 0.0989 - categorical_accuracy: 1.0000\n",
      "Epoch 5/10\n",
      "28754/28754 [==============================] - 147s 5ms/step - loss: 0.1455 - acc: 0.9111 - mean_absolute_error: 0.1064 - categorical_accuracy: 1.0000\n",
      "Epoch 6/10\n",
      "28754/28754 [==============================] - 152s 5ms/step - loss: 0.1425 - acc: 0.9204 - mean_absolute_error: 0.0955 - categorical_accuracy: 1.0000\n",
      "Epoch 7/10\n",
      "28754/28754 [==============================] - 161s 6ms/step - loss: 0.1363 - acc: 0.9276 - mean_absolute_error: 0.0891 - categorical_accuracy: 1.0000\n",
      "Epoch 8/10\n"
     ]
    },
    {
     "name": "stdout",
     "output_type": "stream",
     "text": [
      "28754/28754 [==============================] - 158s 5ms/step - loss: 0.1343 - acc: 0.9322 - mean_absolute_error: 0.0818 - categorical_accuracy: 1.0000\n",
      "Epoch 9/10\n",
      "28754/28754 [==============================] - 156s 5ms/step - loss: 0.1331 - acc: 0.9344 - mean_absolute_error: 0.0788 - categorical_accuracy: 1.0000\n",
      "Epoch 10/10\n",
      "28754/28754 [==============================] - 155s 5ms/step - loss: 0.1326 - acc: 0.9349 - mean_absolute_error: 0.0776 - categorical_accuracy: 1.0000\n",
      "7188/7188 [==============================] - 12s 2ms/step\n",
      "28754/28754 [==============================] - 47s 2ms/step\n",
      "Epoch 1/10\n",
      "35942/35942 [==============================] - 215s 6ms/step - loss: 0.0909 - acc: 0.8612 - mean_absolute_error: 0.1904 - categorical_accuracy: 1.0000\n",
      "Epoch 2/10\n",
      "35942/35942 [==============================] - 217s 6ms/step - loss: 0.0372 - acc: 0.9171 - mean_absolute_error: 0.1253 - categorical_accuracy: 1.0000\n",
      "Epoch 3/10\n",
      "35942/35942 [==============================] - 217s 6ms/step - loss: 0.0273 - acc: 0.9444 - mean_absolute_error: 0.0877 - categorical_accuracy: 1.0000\n",
      "Epoch 4/10\n",
      "35942/35942 [==============================] - 220s 6ms/step - loss: 0.0233 - acc: 0.9530 - mean_absolute_error: 0.0728 - categorical_accuracy: 1.0000\n",
      "Epoch 5/10\n",
      "35942/35942 [==============================] - 217s 6ms/step - loss: 0.0214 - acc: 0.9577 - mean_absolute_error: 0.0661 - categorical_accuracy: 1.0000\n",
      "Epoch 6/10\n",
      "35942/35942 [==============================] - 216s 6ms/step - loss: 0.0200 - acc: 0.9612 - mean_absolute_error: 0.0612 - categorical_accuracy: 1.0000\n",
      "Epoch 7/10\n",
      "35942/35942 [==============================] - 215s 6ms/step - loss: 0.0182 - acc: 0.9649 - mean_absolute_error: 0.0553 - categorical_accuracy: 1.0000\n",
      "Epoch 8/10\n",
      "35942/35942 [==============================] - 219s 6ms/step - loss: 0.0173 - acc: 0.9664 - mean_absolute_error: 0.0531 - categorical_accuracy: 1.0000\n",
      "Epoch 9/10\n",
      "35942/35942 [==============================] - 214s 6ms/step - loss: 0.0154 - acc: 0.9700 - mean_absolute_error: 0.0471 - categorical_accuracy: 1.0000\n",
      "Epoch 10/10\n",
      "35942/35942 [==============================] - 198s 6ms/step - loss: 0.0145 - acc: 0.9725 - mean_absolute_error: 0.0432 - categorical_accuracy: 1.0000\n"
     ]
    }
   ],
   "source": [
    "#### Including standardization in the GridSearch and CrossValidation process\n",
    "model = KerasClassifier(build_fn = create_model_with_dropout_new, verbose = 1) # , batch_size = 1000\n",
    "\n",
    "estimators = []\n",
    "estimators.append(('standardize', StandardScaler()))\n",
    "estimators.append(('nn', model))\n",
    "pipeline = Pipeline(estimators)\n",
    "\n",
    "param_grid_pipe = { 'nn' : [model],\n",
    "                    'nn__optimizer': ['adam'],\n",
    "                  'nn__epochs' : [10],\n",
    "                  'nn__batch_size' : [1000],\n",
    "                  'nn__init' : ['glorot_uniform'],\n",
    "                  'nn__loss' : loss_list,\n",
    "                 'nn__learning_rate' : [0.001],\n",
    "                  'nn__decay' : [0.9],\n",
    "                  'nn__momentum' : [0.999]\n",
    "                  }\n",
    "\n",
    "#pipeline.get_params().keys()\n",
    "grid = GridSearchCV(estimator=pipeline, param_grid=param_grid_pipe, n_jobs = 1, cv = 5, refit= True)\n",
    "grid_result_pipe = grid.fit(X1, Y1)"
   ]
  },
  {
   "cell_type": "code",
   "execution_count": 44,
   "metadata": {},
   "outputs": [
    {
     "name": "stderr",
     "output_type": "stream",
     "text": [
      "/Users/rajeshpothamsetty/anaconda3/lib/python3.6/site-packages/ipykernel_launcher.py:7: FutureWarning: elementwise comparison failed; returning scalar instead, but in the future will perform elementwise comparison\n",
      "  import sys\n",
      "/Users/rajeshpothamsetty/anaconda3/lib/python3.6/site-packages/ipykernel_launcher.py:9: FutureWarning: elementwise comparison failed; returning scalar instead, but in the future will perform elementwise comparison\n",
      "  if __name__ == '__main__':\n"
     ]
    },
    {
     "name": "stdout",
     "output_type": "stream",
     "text": [
      "6605/6605 [==============================] - 24s 4ms/step\n"
     ]
    }
   ],
   "source": [
    "#Y1_test = dataset_test[:,12927]\n",
    "Y1_test = dataset_test[:,5367]\n",
    "Y1_test\n",
    "X1_test = np.delete(dataset_test, 5367, axis=1)\n",
    "X1_test = np.delete(X1_test, 0, axis=1)\n",
    "\n",
    "X1_test[X1_test == ''] = '-10'\n",
    "X1_test = X1_test.astype(float)\n",
    "Y1_test[Y1_test == ''] = '0.0'\n",
    "Y1_test = Y1_test.astype(float)\n",
    "\n",
    "from numpy import *\n",
    "X1_test[isnan(X1_test)] = '-10'\n",
    "X1_test = X1_test.astype(float)\n",
    "X1_test\n",
    "\n",
    "Y_test_prob = grid_result_pipe.predict_proba(X1_test)"
   ]
  },
  {
   "cell_type": "code",
   "execution_count": 45,
   "metadata": {},
   "outputs": [
    {
     "data": {
      "text/plain": [
       "(6605, 13047)"
      ]
     },
     "execution_count": 45,
     "metadata": {},
     "output_type": "execute_result"
    }
   ],
   "source": [
    "dataset_test.shape"
   ]
  },
  {
   "cell_type": "code",
   "execution_count": 46,
   "metadata": {},
   "outputs": [
    {
     "name": "stdout",
     "output_type": "stream",
     "text": [
      "35942/35942 [==============================] - 125s 3ms/step\n"
     ]
    },
    {
     "data": {
      "text/plain": [
       "0.9835568415780981"
      ]
     },
     "execution_count": 46,
     "metadata": {},
     "output_type": "execute_result"
    }
   ],
   "source": [
    "#Train Accuracy\n",
    "y_train_pred = grid.predict(X1)\n",
    "from sklearn.metrics import *\n",
    "accuracy_score(Y1, y_train_pred)"
   ]
  },
  {
   "cell_type": "code",
   "execution_count": 47,
   "metadata": {},
   "outputs": [
    {
     "name": "stdout",
     "output_type": "stream",
     "text": [
      "6605/6605 [==============================] - 21s 3ms/step\n"
     ]
    },
    {
     "data": {
      "text/plain": [
       "0.9801665404996215"
      ]
     },
     "execution_count": 47,
     "metadata": {},
     "output_type": "execute_result"
    }
   ],
   "source": [
    "#Test Accuracy\n",
    "y_test_pred = grid.predict(X1_test)\n",
    "accuracy_score(Y1_test, y_test_pred)"
   ]
  },
  {
   "cell_type": "code",
   "execution_count": 48,
   "metadata": {},
   "outputs": [],
   "source": [
    "import matplotlib.pyplot as plt\n",
    "from sklearn.metrics import roc_curve, auc\n",
    "%matplotlib inline"
   ]
  },
  {
   "cell_type": "code",
   "execution_count": 52,
   "metadata": {},
   "outputs": [
    {
     "data": {
      "image/png": "[encoded data removed]",
      "text/plain": [
       "<matplotlib.figure.Figure at 0x1a3eaefba8>"
      ]
     },
     "metadata": {},
     "output_type": "display_data"
    }
   ],
   "source": [
    "#plotting test roc_curve\n",
    "fpr, tpr, thresholds = roc_curve(Y1_test, Y_test_prob[:, 1])\n",
    "roc_auc = auc(fpr, tpr)\n",
    "plt.plot(fpr, tpr, lw=1, alpha=4, label='ROC(Accuray = %0.2f, AUC = %0.2f)' % (accuracy_score(Y1_test, y_test_pred), roc_auc))\n",
    "plt.xlabel('False Positive Rate')\n",
    "plt.ylabel('True Positive Rate')\n",
    "plt.title('Receiver operating characteristic Combined-DNN')\n",
    "plt.legend(loc=\"lower right\")\n",
    "plt.show()"
   ]
  }
 ],
 "metadata": {
  "kernelspec": {
   "display_name": "Python 3",
   "language": "python",
   "name": "python3"
  },
  "language_info": {
   "codemirror_mode": {
    "name": "ipython",
    "version": 3
   },
   "file_extension": ".py",
   "mimetype": "text/x-python",
   "name": "python",
   "nbconvert_exporter": "python",
   "pygments_lexer": "ipython3",
   "version": "3.6.4"
  },
  "varInspector": {
   "cols": {
    "lenName": 16,
    "lenType": 16,
    "lenVar": 40
   },
   "kernels_config": {
    "python": {
     "delete_cmd_postfix": "",
     "delete_cmd_prefix": "del ",
     "library": "var_list.py",
     "varRefreshCmd": "print(var_dic_list())"
    },
    "r": {
     "delete_cmd_postfix": ") ",
     "delete_cmd_prefix": "rm(",
     "library": "var_list.r",
     "varRefreshCmd": "cat(var_dic_list()) "
    }
   },
   "types_to_exclude": [
    "module",
    "function",
    "builtin_function_or_method",
    "instance",
    "_Feature"
   ],
   "window_display": false
  }
 },
 "nbformat": 4,
 "nbformat_minor": 2
}
