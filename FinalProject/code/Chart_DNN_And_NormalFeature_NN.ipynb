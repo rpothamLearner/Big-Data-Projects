{
 "cells": [
  {
   "cell_type": "code",
   "execution_count": 1,
   "metadata": {},
   "outputs": [
    {
     "name": "stderr",
     "output_type": "stream",
     "text": [
      "/Users/rajeshpothamsetty/anaconda3/lib/python3.6/site-packages/h5py/__init__.py:36: FutureWarning: Conversion of the second argument of issubdtype from `float` to `np.floating` is deprecated. In future, it will be treated as `np.float64 == np.dtype(float).type`.\n",
      "  from ._conv import register_converters as _register_converters\n",
      "Using TensorFlow backend.\n"
     ]
    }
   ],
   "source": [
    "from keras.models import Sequential\n",
    "from keras.layers import Dense, Dropout, Masking, Input\n",
    "from keras.wrappers.scikit_learn import KerasClassifier\n",
    "from keras import optimizers\n",
    "from keras.constraints import maxnorm\n",
    "from keras.callbacks import ModelCheckpoint, LearningRateScheduler, Callback\n",
    "from sklearn.model_selection import StratifiedKFold\n",
    "from sklearn.model_selection import cross_val_score\n",
    "from sklearn.model_selection import GridSearchCV\n",
    "from sklearn.preprocessing import StandardScaler\n",
    "from sklearn.pipeline import Pipeline\n",
    "from keras.models import model_from_json\n",
    "from keras.callbacks import History, CSVLogger\n",
    "from keras.utils import plot_model\n",
    "import keras.backend as K\n",
    "from keras.losses import binary_crossentropy\n",
    "import matplotlib.pyplot as plt\n",
    "import numpy\n",
    "import json\n",
    "import pandas as pd\n",
    "import pickle\n",
    "import numpy as np\n",
    "from numpy import *\n",
    "from os import listdir\n",
    "from os.path import isfile, join\n",
    "from sklearn.linear_model import LogisticRegression"
   ]
  },
  {
   "cell_type": "raw",
   "metadata": {},
   "source": [
    "Instructions to run the code\n",
    "1. Get the bm data folder structure with root/all_stays , root/train/, root/test/,\n",
    "2. assign root/train to train_path and root/test tp test_path\n",
    "3. this is the path where you want to save the 'phenotype_train.csv' and 'phenotype_test.csv'\n",
    "    3.1.1 if you want to extract the phenotype feature run Cell-15\n",
    "    3.1.2 if you want to directly use the feature set already created run Cell-11 (loads the above 2 .csv files)\n",
    "4. features_without_chart_path maps to @mengnan feature results folder 'features_exclude_chart'\n",
    "5. feature_with_only_chart_path maps to @mengnan feature results folder 'features_only_chart'"
   ]
  },
  {
   "cell_type": "code",
   "execution_count": 2,
   "metadata": {},
   "outputs": [],
   "source": [
    "root = 'data/root/'\n",
    "train_path = 'data/root/train'\n",
    "test_path = 'data/root/test'\n",
    "#below can path can be set to any folder if extracting Phenotype score rather than using pre-extracted.\n",
    "phenotype_features = '/Users/rajeshpothamsetty/Dropbox/Rajesh_DB/IMP_Dropbox/OMSCS/BigData/'\n",
    "#below are results folders from Scala/Spark\n",
    "feature_without_chart_path = '/Users/rajeshpothamsetty/Downloads/Results_update/features_exclude_chart/'\n",
    "feature_with_only_chart_path = '/Users/rajeshpothamsetty/Downloads/Results_update/features_only_chart/'"
   ]
  },
  {
   "cell_type": "code",
   "execution_count": 7,
   "metadata": {},
   "outputs": [],
   "source": [
    "all_stays = pd.read_csv(root + \"all_stays.csv\")"
   ]
  },
  {
   "cell_type": "code",
   "execution_count": 8,
   "metadata": {},
   "outputs": [
    {
     "name": "stderr",
     "output_type": "stream",
     "text": [
      "/Users/rajeshpothamsetty/anaconda3/lib/python3.6/site-packages/ipykernel_launcher.py:9: SettingWithCopyWarning: \n",
      "A value is trying to be set on a copy of a slice from a DataFrame.\n",
      "Try using .loc[row_indexer,col_indexer] = value instead\n",
      "\n",
      "See the caveats in the documentation: http://pandas.pydata.org/pandas-docs/stable/indexing.html#indexing-view-versus-copy\n",
      "  if __name__ == '__main__':\n",
      "/Users/rajeshpothamsetty/anaconda3/lib/python3.6/site-packages/ipykernel_launcher.py:10: SettingWithCopyWarning: \n",
      "A value is trying to be set on a copy of a slice from a DataFrame.\n",
      "Try using .loc[row_indexer,col_indexer] = value instead\n",
      "\n",
      "See the caveats in the documentation: http://pandas.pydata.org/pandas-docs/stable/indexing.html#indexing-view-versus-copy\n",
      "  # Remove the CWD from sys.path while we load stuff.\n"
     ]
    }
   ],
   "source": [
    "# creating binary features from LAST_CAREUNIT and a cumulative count of number of icu stays of a patient till \n",
    "# that point as one other feature.\n",
    "care_units = all_stays[['ICUSTAY_ID', 'LAST_CAREUNIT']]\n",
    "stay_ids = care_units['ICUSTAY_ID']\n",
    "care_units = care_units['LAST_CAREUNIT'].str.get_dummies(',')\n",
    "care_units['ICUSTAY_ID'] = stay_ids\n",
    "\n",
    "cum_stay = all_stays[['SUBJECT_ID', 'ICUSTAY_ID']]\n",
    "cum_stay['cum'] =1\n",
    "cum_stay['ICU_CUM'] = cum_stay.groupby('SUBJECT_ID')['cum'].cumsum()\n",
    "cum_stay = cum_stay[['ICUSTAY_ID', 'ICU_CUM']]"
   ]
  },
  {
   "cell_type": "code",
   "execution_count": 9,
   "metadata": {},
   "outputs": [],
   "source": [
    "feature_set = pd.merge(cum_stay, care_units, how = 'inner', left_on = 'ICUSTAY_ID', right_on = 'ICUSTAY_ID')"
   ]
  },
  {
   "cell_type": "markdown",
   "metadata": {},
   "source": [
    "#### phenotype extraction cell"
   ]
  },
  {
   "cell_type": "code",
   "execution_count": 11,
   "metadata": {},
   "outputs": [
    {
     "data": {
      "text/html": [
       "<div>\n",
       "<style scoped>\n",
       "    .dataframe tbody tr th:only-of-type {\n",
       "        vertical-align: middle;\n",
       "    }\n",
       "\n",
       "    .dataframe tbody tr th {\n",
       "        vertical-align: top;\n",
       "    }\n",
       "\n",
       "    .dataframe thead th {\n",
       "        text-align: right;\n",
       "    }\n",
       "</style>\n",
       "<table border=\"1\" class=\"dataframe\">\n",
       "  <thead>\n",
       "    <tr style=\"text-align: right;\">\n",
       "      <th></th>\n",
       "      <th>ICUSTAY_ID</th>\n",
       "      <th>Phentotype_Score</th>\n",
       "    </tr>\n",
       "  </thead>\n",
       "  <tbody>\n",
       "    <tr>\n",
       "      <th>0</th>\n",
       "      <td>258326</td>\n",
       "      <td>5</td>\n",
       "    </tr>\n",
       "    <tr>\n",
       "      <th>0</th>\n",
       "      <td>216403</td>\n",
       "      <td>2</td>\n",
       "    </tr>\n",
       "    <tr>\n",
       "      <th>0</th>\n",
       "      <td>268419</td>\n",
       "      <td>3</td>\n",
       "    </tr>\n",
       "    <tr>\n",
       "      <th>1</th>\n",
       "      <td>279204</td>\n",
       "      <td>4</td>\n",
       "    </tr>\n",
       "    <tr>\n",
       "      <th>0</th>\n",
       "      <td>206504</td>\n",
       "      <td>8</td>\n",
       "    </tr>\n",
       "    <tr>\n",
       "      <th>0</th>\n",
       "      <td>286008</td>\n",
       "      <td>7</td>\n",
       "    </tr>\n",
       "    <tr>\n",
       "      <th>0</th>\n",
       "      <td>280464</td>\n",
       "      <td>0</td>\n",
       "    </tr>\n",
       "    <tr>\n",
       "      <th>0</th>\n",
       "      <td>264446</td>\n",
       "      <td>6</td>\n",
       "    </tr>\n",
       "    <tr>\n",
       "      <th>0</th>\n",
       "      <td>240226</td>\n",
       "      <td>0</td>\n",
       "    </tr>\n",
       "    <tr>\n",
       "      <th>0</th>\n",
       "      <td>204881</td>\n",
       "      <td>7</td>\n",
       "    </tr>\n",
       "  </tbody>\n",
       "</table>\n",
       "</div>"
      ],
      "text/plain": [
       "   ICUSTAY_ID  Phentotype_Score\n",
       "0      258326                 5\n",
       "0      216403                 2\n",
       "0      268419                 3\n",
       "1      279204                 4\n",
       "0      206504                 8\n",
       "0      286008                 7\n",
       "0      280464                 0\n",
       "0      264446                 6\n",
       "0      240226                 0\n",
       "0      204881                 7"
      ]
     },
     "execution_count": 11,
     "metadata": {},
     "output_type": "execute_result"
    }
   ],
   "source": [
    "#Extracting Phenotype Score from the train and test folders of benchmark data\n",
    "#No need to run this, as it has been already run and saved\n",
    "train_pt = [f for f in listdir(train_path)]\n",
    "test_pt = [f for f in listdir(test_path)]\n",
    "\n",
    "train_pt = train_pt[1:len(train_pt)]\n",
    "test_pt = train_pt[1:len(test_pt)]\n",
    "\n",
    "def get_phenScore(p_id):\n",
    "    diagnoses_path = train_path + '/' + p_id + '/' + 'diagnoses.csv'\n",
    "    diagnoses = pd.read_csv(diagnoses_path, sep = \",\", header = 'infer')\n",
    "    diagnoses = diagnoses.groupby('ICUSTAY_ID').agg({'USE_IN_BENCHMARK' : 'sum'}).reset_index().rename(columns = {'USE_IN_BENCHMARK' : 'Phentotype_Score'})\n",
    "    return diagnoses\n",
    "\n",
    "score_df_train = map(get_phenScore, train_pt)\n",
    "score_df_test = map(get_phenScore, test_pt)\n",
    "\n",
    "phenotype_train = pd.concat(score_df_train)\n",
    "phenotype_test = pd.concat(score_df_test)\n",
    "phenotype_test.head(10)\n",
    "\n",
    "phenotype_train.to_csv(phenotype_features + 'phenotype_train.csv')\n",
    "phenotype_test.to_csv(phenotype_features + 'phenotype_test.csv')"
   ]
  },
  {
   "cell_type": "code",
   "execution_count": 11,
   "metadata": {},
   "outputs": [
    {
     "data": {
      "text/html": [
       "<div>\n",
       "<style scoped>\n",
       "    .dataframe tbody tr th:only-of-type {\n",
       "        vertical-align: middle;\n",
       "    }\n",
       "\n",
       "    .dataframe tbody tr th {\n",
       "        vertical-align: top;\n",
       "    }\n",
       "\n",
       "    .dataframe thead th {\n",
       "        text-align: right;\n",
       "    }\n",
       "</style>\n",
       "<table border=\"1\" class=\"dataframe\">\n",
       "  <thead>\n",
       "    <tr style=\"text-align: right;\">\n",
       "      <th></th>\n",
       "      <th>ICUSTAY_ID</th>\n",
       "      <th>Phentotype_Score</th>\n",
       "    </tr>\n",
       "  </thead>\n",
       "  <tbody>\n",
       "    <tr>\n",
       "      <th>0</th>\n",
       "      <td>221100</td>\n",
       "      <td>2.0</td>\n",
       "    </tr>\n",
       "    <tr>\n",
       "      <th>1</th>\n",
       "      <td>258326</td>\n",
       "      <td>5.0</td>\n",
       "    </tr>\n",
       "    <tr>\n",
       "      <th>2</th>\n",
       "      <td>216403</td>\n",
       "      <td>2.0</td>\n",
       "    </tr>\n",
       "    <tr>\n",
       "      <th>3</th>\n",
       "      <td>268419</td>\n",
       "      <td>3.0</td>\n",
       "    </tr>\n",
       "    <tr>\n",
       "      <th>4</th>\n",
       "      <td>279204</td>\n",
       "      <td>4.0</td>\n",
       "    </tr>\n",
       "  </tbody>\n",
       "</table>\n",
       "</div>"
      ],
      "text/plain": [
       "   ICUSTAY_ID  Phentotype_Score\n",
       "0      221100               2.0\n",
       "1      258326               5.0\n",
       "2      216403               2.0\n",
       "3      268419               3.0\n",
       "4      279204               4.0"
      ]
     },
     "execution_count": 11,
     "metadata": {},
     "output_type": "execute_result"
    }
   ],
   "source": [
    "phenotype_train = pd.read_csv( all_features +'phenotype_train.csv', delimiter=\",\", header= 0)[['ICUSTAY_ID', 'Phentotype_Score']]\n",
    "phenotype_test = pd.read_csv( all_features +'phenotype_train.csv', delimiter=\",\", header= 0)[['ICUSTAY_ID', 'Phentotype_Score']]\n",
    "phenotype_test.head(5)"
   ]
  },
  {
   "cell_type": "markdown",
   "metadata": {},
   "source": [
    "#### load pre-extracted phenotype scores"
   ]
  },
  {
   "cell_type": "code",
   "execution_count": 12,
   "metadata": {},
   "outputs": [],
   "source": [
    "# adding PhenotypeScore to the feature set\n",
    "feature_set1_train = pd.merge(feature_set, phenotype_train, how = 'inner', left_on = 'ICUSTAY_ID', right_on = 'ICUSTAY_ID')\n",
    "feature_set1_test = pd.merge(feature_set, phenotype_test, how = 'inner', left_on = 'ICUSTAY_ID', right_on = 'ICUSTAY_ID')"
   ]
  },
  {
   "cell_type": "code",
   "execution_count": 13,
   "metadata": {},
   "outputs": [
    {
     "name": "stdout",
     "output_type": "stream",
     "text": [
      "         46   47   48   49  mortality   51\n",
      "0  0.046739  3.0  0.0  0.0        NaN  0.0\n",
      "1  0.116839  1.0  0.0  0.0        0.0  0.0\n",
      "2  0.071716  0.0  0.0  0.0        0.0  0.0\n",
      "3  0.769396  1.0  0.0  1.0        1.0  5.0\n",
      "4  0.196366  0.0  0.0  0.0        0.0  0.0\n"
     ]
    }
   ],
   "source": [
    "#Feature Extracted directly from MIMIC3 data (these are highly populated features excluding chart events)\n",
    "#dataset = np.loadtxt( feature_set2_path + \"features_value_without_masks.txt\", delimiter=\",\",dtype = 'str')\n",
    "dataset_df = pd.read_csv(feature_without_chart_path + \"features_value_without_masks.txt\", delimiter=\",\", header= None)\n",
    "#dataset_df = pd.DataFrame(dataset)\n",
    "dataset_df[0].replace('', np.nan, inplace=True)\n",
    "dataset_df.dropna(subset=[0], inplace=True)\n",
    "dataset_df = dataset_df.rename(columns = {0 : 'ICUSTAY_ID'}) \n",
    "dataset_df = dataset_df.rename(columns = {50 : 'mortality'}) \n",
    "print(dataset_df.iloc[:, 46:52].head())"
   ]
  },
  {
   "cell_type": "code",
   "execution_count": 14,
   "metadata": {},
   "outputs": [],
   "source": [
    "#adding previous extracted cumulative icu count, Pheno score and last_care unit to the features extracted above\n",
    "phenotype_train['ICUSTAY_ID'] = phenotype_train['ICUSTAY_ID'].astype(int)\n",
    "dataset_df['ICUSTAY_ID'] = dataset_df['ICUSTAY_ID'].astype(int)\n",
    "dataset_train_merge = pd.merge(dataset_df, phenotype_train, how = 'inner', left_on = 'ICUSTAY_ID', right_on = 'ICUSTAY_ID')\n",
    "dataset_test_merge = pd.merge(dataset_df, phenotype_test, how = 'inner', left_on = 'ICUSTAY_ID', right_on = 'ICUSTAY_ID')                                                       \n",
    "\n",
    "feature_set2_train = pd.merge(feature_set1_train, dataset_train_merge, how = 'inner', left_on = 'ICUSTAY_ID', right_on = 'ICUSTAY_ID')\n",
    "feature_set2_test = pd.merge(feature_set1_test, dataset_test_merge, how = 'inner', left_on = 'ICUSTAY_ID', right_on = 'ICUSTAY_ID')  \n",
    "\n",
    "#cleaning/removing dup feature\n",
    "feature_set2_train = feature_set2_train.drop('Phentotype_Score_x', 1)\n",
    "feature_set2_train = feature_set2_train.rename(columns = {'Phentotype_Score_y' : 'Phentotype_Score'}) \n",
    "feature_set2_test = feature_set2_test.drop('Phentotype_Score_x', 1)\n",
    "feature_set2_test = feature_set2_test.rename(columns = {'Phentotype_Score_y' : 'Phentotype_Score'}) "
   ]
  },
  {
   "cell_type": "markdown",
   "metadata": {},
   "source": [
    "#### Model for Chart Events Alone"
   ]
  },
  {
   "cell_type": "code",
   "execution_count": 15,
   "metadata": {},
   "outputs": [],
   "source": [
    "dataset_df = pd.read_csv(feature_with_only_chart_path + \"feature_value_with_masks.txt\", delimiter=\",\", header= None)\n",
    "\n",
    "# removing any blank icustayIds\n",
    "dataset_df[0].replace('', np.nan, inplace=True)\n",
    "dataset_df.dropna(subset=[0], inplace=True)\n",
    "dataset_df[0] = pd.to_numeric(dataset_df[0])\n",
    "dataset_df[0] = dataset_df[0].astype(int)\n",
    "dataset_df = dataset_df.rename(columns = {0 : 'ICUSTAY_ID'}) \n",
    "\n",
    "# merging to separate train/test\n",
    "dataset_train_merge = pd.merge(dataset_df, phenotype_train, how = 'inner', left_on = 'ICUSTAY_ID', right_on = 'ICUSTAY_ID')\n",
    "dataset_test_merge = pd.merge(dataset_df, phenotype_test, how = 'inner', left_on = 'ICUSTAY_ID', right_on = 'ICUSTAY_ID')\n",
    "\n",
    "dataset_train = dataset_train_merge.values\n",
    "dataset_test = dataset_test_merge.values"
   ]
  },
  {
   "cell_type": "code",
   "execution_count": 16,
   "metadata": {},
   "outputs": [
    {
     "name": "stderr",
     "output_type": "stream",
     "text": [
      "/Users/rajeshpothamsetty/anaconda3/lib/python3.6/site-packages/ipykernel_launcher.py:11: FutureWarning: elementwise comparison failed; returning scalar instead, but in the future will perform elementwise comparison\n",
      "  # This is added back by InteractiveShellApp.init_path()\n"
     ]
    }
   ],
   "source": [
    "#prepare X_train and Y_train, 2330 column number of mortality\n",
    "X1 = np.delete(dataset_train, 2330, axis=1)\n",
    "X1 = np.delete(X1, 0, axis=1)\n",
    "#replace blank value with any number which doesnt show up as acceptable value in chart events\n",
    "#we have binary feature for each of these missing values, with 1 representing a missing value\n",
    "X1[X1 == np.nan] = '-10'\n",
    "X1[isnan(X1)] = '-10'\n",
    "X1 = X1.astype(float)\n",
    "\n",
    "Y1 = dataset_train[:,2330]\n",
    "Y1[Y1 == ''] = '0.0'\n",
    "Y1 = Y1.astype(float)"
   ]
  },
  {
   "cell_type": "code",
   "execution_count": 17,
   "metadata": {},
   "outputs": [
    {
     "name": "stderr",
     "output_type": "stream",
     "text": [
      "/Users/rajeshpothamsetty/anaconda3/lib/python3.6/site-packages/ipykernel_launcher.py:2: FutureWarning: elementwise comparison failed; returning scalar instead, but in the future will perform elementwise comparison\n",
      "  \n",
      "/Users/rajeshpothamsetty/anaconda3/lib/python3.6/site-packages/ipykernel_launcher.py:7: FutureWarning: elementwise comparison failed; returning scalar instead, but in the future will perform elementwise comparison\n",
      "  import sys\n"
     ]
    }
   ],
   "source": [
    "Y1_test = dataset_test[:,2330]\n",
    "Y1_test[Y1_test == ''] = '0.0'\n",
    "Y1_test = Y1_test.astype(float)\n",
    "\n",
    "X1_test = np.delete(dataset_test, 2330, axis=1)\n",
    "X1_test = np.delete(X1_test, 0, axis=1)\n",
    "X1_test[X1_test == ''] = '-10'\n",
    "X1_test = X1_test.astype(float)\n",
    "X1_test[isnan(X1_test)] = '-10'\n",
    "X1_test = X1_test.astype(float)"
   ]
  },
  {
   "cell_type": "raw",
   "metadata": {},
   "source": [
    "Nesterov momentum is a different version of the momentum method which has stronger theoretical converge guarantees for convex functions. In practice, it works slightly better than standard momentum.\n",
    "Need to look in to optimal lr for dropout.\n",
    "\n",
    "In the original paper on dropout, it is recommended to have constraint on maximum norm of the weights\n",
    "#####tips for performance increment with dropout Good to have larger networks when using dropout.\n",
    "dropout between each layers Use a large learning rate with decay and a large momentum. Increase your learning rate by a factor of 10 to 100 and use a high momentum value of 0.9 or 0.99. Constrain the size of network weights. A large learning rate can result in very large network weights. Imposing a constraint on the size of network weights such as max-norm regularization with a size of 4 or 5 has been shown to improve results."
   ]
  },
  {
   "cell_type": "markdown",
   "metadata": {},
   "source": [
    "#### model for Chart Events Only or (Chart + Normal Features)"
   ]
  },
  {
   "cell_type": "code",
   "execution_count": 19,
   "metadata": {},
   "outputs": [],
   "source": [
    "def create_model_with_dropout(loss, optimizer, init, input_dim, learning_rate = 0, decay = 0, momentum = 0.8, dropout = 0.2):\n",
    "\n",
    "    def weighted_binary_crossentropy(y_true, y_pred):\n",
    "        one_weight = 0.91\n",
    "        zero_weight = 0.09\n",
    "        b_ce = binary_crossentropy(y_true, y_pred)\n",
    "        weight_vector = y_true * one_weight + (1. - y_true) * zero_weight\n",
    "        weighted_b_ce = weight_vector * b_ce\n",
    "        return K.mean(weighted_b_ce)\n",
    "\n",
    "    # create model\n",
    "    model = Sequential()\n",
    "    #model.add(Masking(mask_value = -12358.0)(inputs))\n",
    "    model.add(Dropout(dropout, input_shape=(input_dim,)))\n",
    "    model.add(Dense(6000, kernel_initializer='normal', activation='relu', kernel_constraint=maxnorm(3)))\n",
    "    model.add(Dropout(dropout))\n",
    "    model.add(Dense(3000, kernel_initializer='normal', activation='relu', kernel_constraint=maxnorm(3)))\n",
    "    model.add(Dropout(dropout))\n",
    "    model.add(Dense(1500, kernel_initializer='normal', activation='relu', kernel_constraint=maxnorm(3)))\n",
    "    model.add(Dropout(dropout))\n",
    "    model.add(Dense(700, kernel_initializer='normal', activation='relu', kernel_constraint=maxnorm(3)))\n",
    "    model.add(Dense(300, kernel_initializer='normal', activation='relu', kernel_constraint=maxnorm(3)))\n",
    "    model.add(Dense(100, kernel_initializer='normal', activation='relu', kernel_constraint=maxnorm(3)))\n",
    "    model.add(Dense(50, kernel_initializer='normal', activation='relu', kernel_constraint=maxnorm(3)))\n",
    "    model.add(Dense(1, kernel_initializer='normal', activation='sigmoid'))\n",
    "   \n",
    "    # setting SGD params\n",
    "    if (optimizer == 'sgd'):\n",
    "        optim_algo = optimizers.SGD(lr= learning_rate, decay = decay, momentum = momentum, nesterov = True)\n",
    "    elif (optimizer == 'adam'):\n",
    "        # Keras default: lr=0.001, beta_1=0.9, beta_2=0.999, epsilon=1e-08, decay=0.0.\n",
    "        optim_algo = optimizers.adam(lr = learning_rate, beta_1 = decay, beta_2 = momentum, epsilon = 10E-8)\n",
    "    else:\n",
    "        optim_algo = optimizer\n",
    "        \n",
    "    # Compile model\n",
    "    model.compile(loss = weighted_binary_crossentropy, optimizer= optim_algo, metrics=['accuracy', 'mae', 'categorical_accuracy'])\n",
    "    return model "
   ]
  },
  {
   "cell_type": "code",
   "execution_count": 20,
   "metadata": {},
   "outputs": [],
   "source": [
    "# setting up the Grid Params\n",
    "# In our test runs, 'adam' optimizer was found to be the best optimizer with it's standard settings without much tuning\n",
    "optimizer_list = ['adam', 'sgd'] #Adadelta, Adagrad\n",
    "init_list = ['glorot_uniform', 'normal', 'uniform']\n",
    "loss_list = ['weighted_binary_crossentropy']\n",
    "learning_rates = [0.001, 0.005, 0.01, 0.05, 0.1, 0.15, 0.2]\n",
    "learning_rate_decays = [0.001, 0.005, 0.01]\n",
    "momentum = [0.7, 0.8, 0.9]\n",
    "dropout = [0.2, 0.25, 0.3]"
   ]
  },
  {
   "cell_type": "code",
   "execution_count": 21,
   "metadata": {},
   "outputs": [
    {
     "name": "stdout",
     "output_type": "stream",
     "text": [
      "Epoch 1/10\n",
      "28753/28753 [==============================] - 239s 8ms/step - loss: 0.0859 - acc: 0.8602 - mean_absolute_error: 0.1816 - categorical_accuracy: 1.0000\n",
      "Epoch 2/10\n",
      "28753/28753 [==============================] - 205s 7ms/step - loss: 0.0396 - acc: 0.9158 - mean_absolute_error: 0.1296 - categorical_accuracy: 1.0000\n",
      "Epoch 3/10\n",
      "28753/28753 [==============================] - 148s 5ms/step - loss: 0.0310 - acc: 0.9393 - mean_absolute_error: 0.0978 - categorical_accuracy: 1.0000\n",
      "Epoch 4/10\n",
      "28753/28753 [==============================] - 151s 5ms/step - loss: 0.0263 - acc: 0.9463 - mean_absolute_error: 0.0818 - categorical_accuracy: 1.0000\n",
      "Epoch 5/10\n",
      "28753/28753 [==============================] - 146s 5ms/step - loss: 0.0227 - acc: 0.9555 - mean_absolute_error: 0.0703 - categorical_accuracy: 1.0000\n",
      "Epoch 6/10\n",
      "28753/28753 [==============================] - 144s 5ms/step - loss: 0.0220 - acc: 0.9584 - mean_absolute_error: 0.0671 - categorical_accuracy: 1.0000\n",
      "Epoch 7/10\n",
      "28753/28753 [==============================] - 145s 5ms/step - loss: 0.0206 - acc: 0.9617 - mean_absolute_error: 0.0607 - categorical_accuracy: 1.0000\n",
      "Epoch 8/10\n",
      "28753/28753 [==============================] - 146s 5ms/step - loss: 0.0193 - acc: 0.9630 - mean_absolute_error: 0.0579 - categorical_accuracy: 1.0000\n",
      "Epoch 9/10\n",
      "28753/28753 [==============================] - 141s 5ms/step - loss: 0.0180 - acc: 0.9658 - mean_absolute_error: 0.0547 - categorical_accuracy: 1.0000\n",
      "Epoch 10/10\n",
      "28753/28753 [==============================] - 144s 5ms/step - loss: 0.0166 - acc: 0.9690 - mean_absolute_error: 0.0491 - categorical_accuracy: 1.0000\n",
      "7189/7189 [==============================] - 12s 2ms/step\n",
      "28753/28753 [==============================] - 45s 2ms/step\n",
      "Epoch 1/10\n",
      "28753/28753 [==============================] - 149s 5ms/step - loss: 0.1101 - acc: 0.8497 - mean_absolute_error: 0.1996 - categorical_accuracy: 1.0000\n",
      "Epoch 2/10\n",
      "28753/28753 [==============================] - 147s 5ms/step - loss: 0.0417 - acc: 0.9063 - mean_absolute_error: 0.1367 - categorical_accuracy: 1.0000\n",
      "Epoch 3/10\n",
      "28753/28753 [==============================] - 147s 5ms/step - loss: 0.0323 - acc: 0.9349 - mean_absolute_error: 0.1033 - categorical_accuracy: 1.0000\n",
      "Epoch 4/10\n",
      "28753/28753 [==============================] - 143s 5ms/step - loss: 0.0273 - acc: 0.9454 - mean_absolute_error: 0.0850 - categorical_accuracy: 1.0000\n",
      "Epoch 5/10\n",
      "28753/28753 [==============================] - 148s 5ms/step - loss: 0.0239 - acc: 0.9526 - mean_absolute_error: 0.0748 - categorical_accuracy: 1.0000\n",
      "Epoch 6/10\n",
      "28753/28753 [==============================] - 144s 5ms/step - loss: 0.0221 - acc: 0.9561 - mean_absolute_error: 0.0679 - categorical_accuracy: 1.0000\n",
      "Epoch 7/10\n",
      "28753/28753 [==============================] - 145s 5ms/step - loss: 0.0206 - acc: 0.9586 - mean_absolute_error: 0.0635 - categorical_accuracy: 1.0000\n",
      "Epoch 8/10\n",
      "28753/28753 [==============================] - 142s 5ms/step - loss: 0.0191 - acc: 0.9625 - mean_absolute_error: 0.0585 - categorical_accuracy: 1.0000\n",
      "Epoch 9/10\n",
      "28753/28753 [==============================] - 154s 5ms/step - loss: 0.0179 - acc: 0.9656 - mean_absolute_error: 0.0543 - categorical_accuracy: 1.0000\n",
      "Epoch 10/10\n",
      "28753/28753 [==============================] - 145s 5ms/step - loss: 0.0168 - acc: 0.9679 - mean_absolute_error: 0.0511 - categorical_accuracy: 1.0000\n",
      "7189/7189 [==============================] - 11s 2ms/step\n",
      "28753/28753 [==============================] - 43s 1ms/step\n",
      "Epoch 1/10\n",
      "28754/28754 [==============================] - 140s 5ms/step - loss: 0.0626 - acc: 0.8941 - mean_absolute_error: 0.1682 - categorical_accuracy: 1.0000\n",
      "Epoch 2/10\n",
      "28754/28754 [==============================] - 143s 5ms/step - loss: 0.0347 - acc: 0.9289 - mean_absolute_error: 0.1111 - categorical_accuracy: 1.0000\n",
      "Epoch 3/10\n",
      "28754/28754 [==============================] - 147s 5ms/step - loss: 0.0281 - acc: 0.9440 - mean_absolute_error: 0.0877 - categorical_accuracy: 1.0000\n",
      "Epoch 4/10\n",
      "28754/28754 [==============================] - 141s 5ms/step - loss: 0.0240 - acc: 0.9529 - mean_absolute_error: 0.0745 - categorical_accuracy: 1.0000\n",
      "Epoch 5/10\n",
      "28754/28754 [==============================] - 141s 5ms/step - loss: 0.0228 - acc: 0.9546 - mean_absolute_error: 0.0710 - categorical_accuracy: 1.0000\n",
      "Epoch 6/10\n",
      "28754/28754 [==============================] - 144s 5ms/step - loss: 0.0211 - acc: 0.9599 - mean_absolute_error: 0.0640 - categorical_accuracy: 1.0000\n",
      "Epoch 7/10\n",
      "28754/28754 [==============================] - 143s 5ms/step - loss: 0.0200 - acc: 0.9626 - mean_absolute_error: 0.0608 - categorical_accuracy: 1.0000\n",
      "Epoch 8/10\n",
      "28754/28754 [==============================] - 143s 5ms/step - loss: 0.0182 - acc: 0.9652 - mean_absolute_error: 0.0559 - categorical_accuracy: 1.0000\n",
      "Epoch 9/10\n",
      "28754/28754 [==============================] - 143s 5ms/step - loss: 0.0170 - acc: 0.9670 - mean_absolute_error: 0.0520 - categorical_accuracy: 1.0000\n",
      "Epoch 10/10\n",
      "28754/28754 [==============================] - 148s 5ms/step - loss: 0.0163 - acc: 0.9689 - mean_absolute_error: 0.0489 - categorical_accuracy: 1.0000\n",
      "7188/7188 [==============================] - 12s 2ms/step\n",
      "28754/28754 [==============================] - 46s 2ms/step\n",
      "Epoch 1/10\n",
      "28754/28754 [==============================] - 152s 5ms/step - loss: 0.1048 - acc: 0.8474 - mean_absolute_error: 0.2000 - categorical_accuracy: 1.0000\n",
      "Epoch 2/10\n",
      "28754/28754 [==============================] - 148s 5ms/step - loss: 0.0435 - acc: 0.9005 - mean_absolute_error: 0.1425 - categorical_accuracy: 1.0000\n",
      "Epoch 3/10\n",
      "28754/28754 [==============================] - 153s 5ms/step - loss: 0.0328 - acc: 0.9321 - mean_absolute_error: 0.1090 - categorical_accuracy: 1.0000\n",
      "Epoch 4/10\n",
      "28754/28754 [==============================] - 152s 5ms/step - loss: 0.0271 - acc: 0.9458 - mean_absolute_error: 0.0857 - categorical_accuracy: 1.0000\n",
      "Epoch 5/10\n",
      "28754/28754 [==============================] - 153s 5ms/step - loss: 0.0236 - acc: 0.9544 - mean_absolute_error: 0.0729 - categorical_accuracy: 1.0000\n",
      "Epoch 6/10\n",
      "28754/28754 [==============================] - 153s 5ms/step - loss: 0.0219 - acc: 0.9569 - mean_absolute_error: 0.0678 - categorical_accuracy: 1.0000\n",
      "Epoch 7/10\n",
      "28754/28754 [==============================] - 156s 5ms/step - loss: 0.0206 - acc: 0.9585 - mean_absolute_error: 0.0646 - categorical_accuracy: 1.0000\n",
      "Epoch 8/10\n",
      "28754/28754 [==============================] - 152s 5ms/step - loss: 0.0189 - acc: 0.9630 - mean_absolute_error: 0.0587 - categorical_accuracy: 1.0000\n",
      "Epoch 9/10\n",
      "28754/28754 [==============================] - 153s 5ms/step - loss: 0.0174 - acc: 0.9666 - mean_absolute_error: 0.0532 - categorical_accuracy: 1.0000\n",
      "Epoch 10/10\n",
      "28754/28754 [==============================] - 152s 5ms/step - loss: 0.0164 - acc: 0.9687 - mean_absolute_error: 0.0498 - categorical_accuracy: 1.0000\n",
      "7188/7188 [==============================] - 12s 2ms/step\n",
      "28754/28754 [==============================] - 46s 2ms/step\n",
      "Epoch 1/10\n",
      "28754/28754 [==============================] - 151s 5ms/step - loss: 0.0601 - acc: 0.8878 - mean_absolute_error: 0.1725 - categorical_accuracy: 1.0000\n",
      "Epoch 2/10\n",
      "28754/28754 [==============================] - 151s 5ms/step - loss: 0.0364 - acc: 0.9249 - mean_absolute_error: 0.1201 - categorical_accuracy: 1.0000\n",
      "Epoch 3/10\n",
      "28754/28754 [==============================] - 152s 5ms/step - loss: 0.0281 - acc: 0.9444 - mean_absolute_error: 0.0883 - categorical_accuracy: 1.0000\n",
      "Epoch 4/10\n",
      "28754/28754 [==============================] - 151s 5ms/step - loss: 0.0246 - acc: 0.9521 - mean_absolute_error: 0.0754 - categorical_accuracy: 1.0000\n",
      "Epoch 5/10\n",
      "28754/28754 [==============================] - 154s 5ms/step - loss: 0.0221 - acc: 0.9559 - mean_absolute_error: 0.0695 - categorical_accuracy: 1.0000\n",
      "Epoch 6/10\n",
      "28754/28754 [==============================] - 154s 5ms/step - loss: 0.0202 - acc: 0.9603 - mean_absolute_error: 0.0621 - categorical_accuracy: 1.0000\n",
      "Epoch 7/10\n",
      "28754/28754 [==============================] - 150s 5ms/step - loss: 0.0195 - acc: 0.9621 - mean_absolute_error: 0.0593 - categorical_accuracy: 1.0000\n",
      "Epoch 8/10\n"
     ]
    },
    {
     "name": "stdout",
     "output_type": "stream",
     "text": [
      "28754/28754 [==============================] - 152s 5ms/step - loss: 0.0181 - acc: 0.9660 - mean_absolute_error: 0.0554 - categorical_accuracy: 1.0000\n",
      "Epoch 9/10\n",
      "28754/28754 [==============================] - 151s 5ms/step - loss: 0.0177 - acc: 0.9660 - mean_absolute_error: 0.0542 - categorical_accuracy: 1.0000\n",
      "Epoch 10/10\n",
      "28754/28754 [==============================] - 146s 5ms/step - loss: 0.0162 - acc: 0.9694 - mean_absolute_error: 0.0485 - categorical_accuracy: 1.0000\n",
      "7188/7188 [==============================] - 12s 2ms/step\n",
      "28754/28754 [==============================] - 44s 2ms/step\n",
      "Epoch 1/10\n",
      "35942/35942 [==============================] - 206s 6ms/step - loss: 0.1024 - acc: 0.8508 - mean_absolute_error: 0.1923 - categorical_accuracy: 1.0000\n",
      "Epoch 2/10\n",
      "35942/35942 [==============================] - 202s 6ms/step - loss: 0.0397 - acc: 0.9137 - mean_absolute_error: 0.1316 - categorical_accuracy: 1.0000\n",
      "Epoch 3/10\n",
      "35942/35942 [==============================] - 200s 6ms/step - loss: 0.0304 - acc: 0.9392 - mean_absolute_error: 0.0958 - categorical_accuracy: 1.0000\n",
      "Epoch 4/10\n",
      "35942/35942 [==============================] - 206s 6ms/step - loss: 0.0265 - acc: 0.9474 - mean_absolute_error: 0.0824 - categorical_accuracy: 1.0000\n",
      "Epoch 5/10\n",
      "35942/35942 [==============================] - 204s 6ms/step - loss: 0.0231 - acc: 0.9549 - mean_absolute_error: 0.0712 - categorical_accuracy: 1.0000\n",
      "Epoch 6/10\n",
      "35942/35942 [==============================] - 206s 6ms/step - loss: 0.0217 - acc: 0.9585 - mean_absolute_error: 0.0653 - categorical_accuracy: 1.0000\n",
      "Epoch 7/10\n",
      "35942/35942 [==============================] - 205s 6ms/step - loss: 0.0207 - acc: 0.9604 - mean_absolute_error: 0.0633 - categorical_accuracy: 1.0000\n",
      "Epoch 8/10\n",
      "35942/35942 [==============================] - 204s 6ms/step - loss: 0.0195 - acc: 0.9629 - mean_absolute_error: 0.0583 - categorical_accuracy: 1.0000\n",
      "Epoch 9/10\n",
      "35942/35942 [==============================] - 193s 5ms/step - loss: 0.0179 - acc: 0.9660 - mean_absolute_error: 0.0540 - categorical_accuracy: 1.0000\n",
      "Epoch 10/10\n",
      "35942/35942 [==============================] - 203s 6ms/step - loss: 0.0171 - acc: 0.9677 - mean_absolute_error: 0.0517 - categorical_accuracy: 1.0000\n"
     ]
    }
   ],
   "source": [
    "#### Including standardization in the GridSearch and CrossValidation process\n",
    "model = KerasClassifier(build_fn = create_model_with_dropout, verbose = 1) # , batch_size = 1000\n",
    "\n",
    "input_dim = 12927 #input features\n",
    "estimators = []\n",
    "estimators.append(('standardize', StandardScaler()))\n",
    "estimators.append(('nn', model))\n",
    "pipeline = Pipeline(estimators)\n",
    "\n",
    "# Standard 'Adam' optimaztion parameters are given here. \n",
    "#found to be performing better than 'sgd' without much tuning due to it's adaptible nature\n",
    "\n",
    "param_grid_pipe = { 'nn' : [model],\n",
    "                    'nn__optimizer': ['adam'],\n",
    "                  'nn__epochs' : [10],\n",
    "                  'nn__batch_size' : [1000],\n",
    "                  'nn__init' : ['glorot_uniform'],\n",
    "                  'nn__loss' : loss_list,\n",
    "                 'nn__learning_rate' : [0.001],\n",
    "                  'nn__decay' : [0.9],\n",
    "                  'nn__momentum' : [0.999],\n",
    "                   'nn__input_dim' : [input_dim]\n",
    "                  }\n",
    "\n",
    "#pipeline.get_params().keys()\n",
    "grid1_ = GridSearchCV(estimator=pipeline, param_grid=param_grid_pipe, n_jobs = 1, cv = 5, refit= True)\n",
    "grid_result_pipe_ = grid1_.fit(X1, Y1)"
   ]
  },
  {
   "cell_type": "code",
   "execution_count": 23,
   "metadata": {},
   "outputs": [
    {
     "name": "stdout",
     "output_type": "stream",
     "text": [
      "35942/35942 [==============================] - 62s 2ms/step\n"
     ]
    }
   ],
   "source": [
    "Y_train1_prob = grid_result_pipe_.predict_proba(X1)\n",
    "X_Y_train = np.vstack((dataset_train[:,0], Y_train1_prob[:,1])).T\n",
    "XY_train_df = pd.DataFrame(X_Y_train)\n",
    "XY_train_df.columns = ['ICUSTAY_ID', 'ChartDNN_pred']"
   ]
  },
  {
   "cell_type": "markdown",
   "metadata": {},
   "source": [
    "#### Model for Non_Chart features (highly populated)"
   ]
  },
  {
   "cell_type": "raw",
   "metadata": {},
   "source": [
    "# we have created a partial dataset above before the chart only model.\n",
    "train_path = 'C://Users//rpothams//Downloads//BD//feature_set3_train.csv'\n",
    "test_path = 'C://Users//rpothams//Downloads//BD//feature_set3_test.csv'\n",
    "\n",
    "dataset_df = pd.read_csv(train_path, header=0)\n",
    "test_df = pd.read_csv(test_path, header=0)"
   ]
  },
  {
   "cell_type": "code",
   "execution_count": 30,
   "metadata": {},
   "outputs": [
    {
     "name": "stdout",
     "output_type": "stream",
     "text": [
      "(35942, 67)\n"
     ]
    }
   ],
   "source": [
    "dataset_train2 = feature_set2_train.values\n",
    "dataset_test2 = feature_set2_test.values\n",
    "\n",
    "Y1_train2 = dataset_train2[:,56]\n",
    "X1_train2 = np.delete(dataset_train2, 56, axis=1)\n",
    "print(X1_train2.shape)\n",
    "X1_train2 = np.delete(X1_train2, 0, axis=1)\n",
    "#print(pd.DataFrame(X1_train).head())\n",
    "#print(pd.DataFrame(X1_train).iloc[:, 55:58].head())\n",
    "X1_train2[X1_train2 == np.nan] = 0.0\n",
    "X1_train2 = X1_train2.astype(float)\n",
    "Y1_train2[Y1_train2 == ''] = 0.0\n",
    "Y1_train2 = Y1_train2.astype(float)"
   ]
  },
  {
   "cell_type": "code",
   "execution_count": 31,
   "metadata": {},
   "outputs": [
    {
     "name": "stdout",
     "output_type": "stream",
     "text": [
      "(6605, 67)\n"
     ]
    },
    {
     "name": "stderr",
     "output_type": "stream",
     "text": [
      "/Users/rajeshpothamsetty/anaconda3/lib/python3.6/site-packages/ipykernel_launcher.py:9: FutureWarning: elementwise comparison failed; returning scalar instead, but in the future will perform elementwise comparison\n",
      "  if __name__ == '__main__':\n"
     ]
    }
   ],
   "source": [
    "Y1_test2 = dataset_test2[:,56]\n",
    "X1_test2 = np.delete(dataset_test2, 56, axis=1)\n",
    "print(X1_test2.shape)\n",
    "X1_test2 = np.delete(X1_test2, 0, axis=1)\n",
    "#print(pd.DataFrame(X1_train).head())\n",
    "#print(pd.DataFrame(X1_train).iloc[:, 55:58].head())\n",
    "X1_test2[X1_test2 == np.nan] = 0.0\n",
    "X1_test2 = X1_test2.astype(float)\n",
    "Y1_test2[Y1_test2 == ''] = 0.0\n",
    "Y1_test2 = Y1_test2.astype(float)\n",
    "\n",
    "X1_train2[isnan(X1_train2)] = 0.0\n",
    "X1_train2 = X1_train2.astype(float)\n",
    "\n",
    "X1_test2[isnan(X1_test2)] = 0.0\n",
    "X1_test2 = X1_test2.astype(float)"
   ]
  },
  {
   "cell_type": "code",
   "execution_count": 38,
   "metadata": {},
   "outputs": [],
   "source": [
    "def create_model_with_dropout_normF(loss, optimizer, init, learning_rate = 0, decay = 0, momentum = 0.8, dropout = 0.2):\n",
    "\n",
    "    def weighted_binary_crossentropy(y_true, y_pred):\n",
    "        one_weight = 0.91\n",
    "        zero_weight = 0.09\n",
    "        b_ce = binary_crossentropy(y_true, y_pred)\n",
    "        weight_vector = y_true * one_weight + (1. - y_true) * zero_weight\n",
    "        weighted_b_ce = weight_vector * b_ce\n",
    "        return K.mean(weighted_b_ce)\n",
    "\n",
    "    # create model\n",
    "    model = Sequential()\n",
    "    model.add(Dropout(dropout, input_shape=(66,)))\n",
    "    model.add(Dropout(dropout))\n",
    "    model.add(Dense(20, kernel_initializer='normal', activation='relu', kernel_constraint=maxnorm(3)))\n",
    "    model.add(Dense(5, kernel_initializer='normal', activation='relu', kernel_constraint=maxnorm(3)))\n",
    "    model.add(Dense(1, kernel_initializer='normal', activation='sigmoid'))\n",
    "   \n",
    "    # setting SGD params\n",
    "    if (optimizer == 'sgd'):\n",
    "        optim_algo = optimizers.SGD(lr= learning_rate, decay = decay, momentum = momentum, nesterov = True)\n",
    "    elif (optimizer == 'adam'):\n",
    "        # Keras default: lr=0.001, beta_1=0.9, beta_2=0.999, epsilon=1e-08, decay=0.0.\n",
    "        optim_algo = optimizers.adam(lr = learning_rate, beta_1 = decay, beta_2 = momentum, epsilon = 10E-8)\n",
    "    else:\n",
    "        optim_algo = optimizer       \n",
    "    # Compile model\n",
    "    model.compile(loss = weighted_binary_crossentropy, optimizer= optim_algo, metrics=['accuracy', 'mae', 'categorical_accuracy'])\n",
    "    return model "
   ]
  },
  {
   "cell_type": "code",
   "execution_count": 65,
   "metadata": {},
   "outputs": [
    {
     "name": "stdout",
     "output_type": "stream",
     "text": [
      "Epoch 1/5\n",
      "28753/28753 [==============================] - 2s 56us/step - loss: 0.1078 - acc: 0.9065 - mean_absolute_error: 0.4915 - categorical_accuracy: 1.0000\n",
      "Epoch 2/5\n",
      "28753/28753 [==============================] - 0s 17us/step - loss: 0.0979 - acc: 0.9154 - mean_absolute_error: 0.4577 - categorical_accuracy: 1.0000\n",
      "Epoch 3/5\n",
      "28753/28753 [==============================] - 0s 16us/step - loss: 0.0757 - acc: 0.9154 - mean_absolute_error: 0.3689 - categorical_accuracy: 1.0000\n",
      "Epoch 4/5\n",
      "28753/28753 [==============================] - 0s 17us/step - loss: 0.0517 - acc: 0.9154 - mean_absolute_error: 0.2485 - categorical_accuracy: 1.0000\n",
      "Epoch 5/5\n",
      "28753/28753 [==============================] - 0s 17us/step - loss: 0.0406 - acc: 0.9154 - mean_absolute_error: 0.1721 - categorical_accuracy: 1.0000\n",
      "7189/7189 [==============================] - 0s 52us/step\n",
      "28753/28753 [==============================] - 0s 5us/step\n",
      "Epoch 1/5\n",
      "28753/28753 [==============================] - 2s 55us/step - loss: 0.1081 - acc: 0.8939 - mean_absolute_error: 0.4944 - categorical_accuracy: 1.0000\n",
      "Epoch 2/5\n",
      "28753/28753 [==============================] - 0s 17us/step - loss: 0.1006 - acc: 0.9166 - mean_absolute_error: 0.4694 - categorical_accuracy: 1.0000\n",
      "Epoch 3/5\n",
      "28753/28753 [==============================] - 1s 19us/step - loss: 0.0820 - acc: 0.9166 - mean_absolute_error: 0.3972 - categorical_accuracy: 1.0000\n",
      "Epoch 4/5\n",
      "28753/28753 [==============================] - 0s 17us/step - loss: 0.0564 - acc: 0.9166 - mean_absolute_error: 0.2723 - categorical_accuracy: 1.0000\n",
      "Epoch 5/5\n",
      "28753/28753 [==============================] - 0s 17us/step - loss: 0.0422 - acc: 0.9166 - mean_absolute_error: 0.1826 - categorical_accuracy: 1.0000\n",
      "7189/7189 [==============================] - 0s 55us/step\n",
      "28753/28753 [==============================] - 0s 5us/step\n",
      "Epoch 1/5\n",
      "28754/28754 [==============================] - 2s 53us/step - loss: 0.1086 - acc: 0.8822 - mean_absolute_error: 0.4930 - categorical_accuracy: 1.0000\n",
      "Epoch 2/5\n",
      "28754/28754 [==============================] - 1s 18us/step - loss: 0.0997 - acc: 0.9149 - mean_absolute_error: 0.4631 - categorical_accuracy: 1.0000\n",
      "Epoch 3/5\n",
      "28754/28754 [==============================] - 0s 17us/step - loss: 0.0788 - acc: 0.9149 - mean_absolute_error: 0.3806 - categorical_accuracy: 1.0000\n",
      "Epoch 4/5\n",
      "28754/28754 [==============================] - 0s 17us/step - loss: 0.0554 - acc: 0.9149 - mean_absolute_error: 0.2669 - categorical_accuracy: 1.0000\n",
      "Epoch 5/5\n",
      "28754/28754 [==============================] - 1s 18us/step - loss: 0.0436 - acc: 0.9149 - mean_absolute_error: 0.1922 - categorical_accuracy: 1.0000\n",
      "7188/7188 [==============================] - 0s 60us/step\n",
      "28754/28754 [==============================] - 0s 6us/step\n",
      "Epoch 1/5\n",
      "28754/28754 [==============================] - 2s 55us/step - loss: 0.1087 - acc: 0.8923 - mean_absolute_error: 0.4931 - categorical_accuracy: 1.0000\n",
      "Epoch 2/5\n",
      "28754/28754 [==============================] - 0s 17us/step - loss: 0.1003 - acc: 0.9147 - mean_absolute_error: 0.4649 - categorical_accuracy: 1.0000\n",
      "Epoch 3/5\n",
      "28754/28754 [==============================] - 0s 17us/step - loss: 0.0805 - acc: 0.9147 - mean_absolute_error: 0.3874 - categorical_accuracy: 1.0000\n",
      "Epoch 4/5\n",
      "28754/28754 [==============================] - 1s 17us/step - loss: 0.0571 - acc: 0.9147 - mean_absolute_error: 0.2754 - categorical_accuracy: 1.0000\n",
      "Epoch 5/5\n",
      "28754/28754 [==============================] - 0s 17us/step - loss: 0.0441 - acc: 0.9147 - mean_absolute_error: 0.1955 - categorical_accuracy: 1.0000\n",
      "7188/7188 [==============================] - 0s 64us/step\n",
      "28754/28754 [==============================] - 0s 6us/step\n",
      "Epoch 1/5\n",
      "28754/28754 [==============================] - 2s 54us/step - loss: 0.1105 - acc: 0.8803 - mean_absolute_error: 0.4937 - categorical_accuracy: 1.0000\n",
      "Epoch 2/5\n",
      "28754/28754 [==============================] - 0s 17us/step - loss: 0.1023 - acc: 0.9118 - mean_absolute_error: 0.4667 - categorical_accuracy: 1.0000\n",
      "Epoch 3/5\n",
      "28754/28754 [==============================] - 1s 18us/step - loss: 0.0824 - acc: 0.9118 - mean_absolute_error: 0.3903 - categorical_accuracy: 1.0000\n",
      "Epoch 4/5\n",
      "28754/28754 [==============================] - 1s 18us/step - loss: 0.0580 - acc: 0.9118 - mean_absolute_error: 0.2753 - categorical_accuracy: 1.0000\n",
      "Epoch 5/5\n",
      "28754/28754 [==============================] - 1s 18us/step - loss: 0.0446 - acc: 0.9118 - mean_absolute_error: 0.1950 - categorical_accuracy: 1.0000\n",
      "7188/7188 [==============================] - 0s 66us/step\n",
      "28754/28754 [==============================] - 0s 5us/step\n",
      "Epoch 1/5\n",
      "35942/35942 [==============================] - 2s 50us/step - loss: 0.1085 - acc: 0.8660 - mean_absolute_error: 0.4924 - categorical_accuracy: 1.0000\n",
      "Epoch 2/5\n",
      "35942/35942 [==============================] - 1s 18us/step - loss: 0.0982 - acc: 0.9147 - mean_absolute_error: 0.4573 - categorical_accuracy: 1.0000\n",
      "Epoch 3/5\n",
      "35942/35942 [==============================] - 1s 19us/step - loss: 0.0736 - acc: 0.9147 - mean_absolute_error: 0.3578 - categorical_accuracy: 1.0000\n",
      "Epoch 4/5\n",
      "35942/35942 [==============================] - 1s 19us/step - loss: 0.0484 - acc: 0.9147 - mean_absolute_error: 0.2245 - categorical_accuracy: 1.0000\n",
      "Epoch 5/5\n",
      "35942/35942 [==============================] - 1s 19us/step - loss: 0.0392 - acc: 0.9147 - mean_absolute_error: 0.1553 - categorical_accuracy: 1.0000\n"
     ]
    }
   ],
   "source": [
    "#### Including standardization in the GridSearch and CrossValidation process\n",
    "model_normF = KerasClassifier(build_fn = create_model_with_dropout_normF, verbose = 1) # , batch_size = 1000\n",
    "\n",
    "estimators = []\n",
    "estimators.append(('standardize', StandardScaler()))\n",
    "estimators.append(('nn', model_normF))\n",
    "pipeline = Pipeline(estimators)\n",
    "\n",
    "param_grid_pipe = { 'nn' : [model_normF],\n",
    "                    'nn__optimizer': ['adam'],\n",
    "                  'nn__epochs' : [5],\n",
    "                  'nn__batch_size' : [1000],\n",
    "                  'nn__init' : ['glorot_uniform'],\n",
    "                  'nn__loss' : loss_list,\n",
    "                 'nn__learning_rate' : [0.001],\n",
    "                  'nn__decay' : [0.9],\n",
    "                  'nn__momentum' : [0.999]\n",
    "                  }\n",
    "\n",
    "#pipeline.get_params().keys()\n",
    "grid2 = GridSearchCV(estimator=pipeline, param_grid=param_grid_pipe, n_jobs = 1, cv = 5, refit= True)\n",
    "grid_result_normF = grid2.fit(X1_train2, Y1_train2)"
   ]
  },
  {
   "cell_type": "code",
   "execution_count": 41,
   "metadata": {},
   "outputs": [
    {
     "name": "stdout",
     "output_type": "stream",
     "text": [
      "35942/35942 [==============================] - 0s 10us/step\n"
     ]
    }
   ],
   "source": [
    "Y_train_prob2 = grid_result_normF.predict_proba(X1_train2)\n",
    "X_Y_train2 = np.vstack((dataset_train2[:,0], Y_train_prob2[:,1])).T\n",
    "XY_train_df2 = pd.DataFrame(X_Y_train2)\n",
    "XY_train_df2.columns = ['ICUSTAY_ID', 'normF_pred']"
   ]
  },
  {
   "cell_type": "markdown",
   "metadata": {},
   "source": [
    "##### Normal Feature NN Performance"
   ]
  },
  {
   "cell_type": "code",
   "execution_count": 45,
   "metadata": {},
   "outputs": [
    {
     "name": "stdout",
     "output_type": "stream",
     "text": [
      "35942/35942 [==============================] - 0s 1us/step\n"
     ]
    },
    {
     "data": {
      "text/plain": [
       "0.9146680763452228"
      ]
     },
     "execution_count": 45,
     "metadata": {},
     "output_type": "execute_result"
    }
   ],
   "source": [
    "# normF train accuracy scores\n",
    "y_train_pred = grid2.predict(X1_train2)\n",
    "from sklearn.metrics import *\n",
    "accuracy_score(Y1_train2, y_train_pred)"
   ]
  },
  {
   "cell_type": "code",
   "execution_count": 57,
   "metadata": {},
   "outputs": [
    {
     "name": "stdout",
     "output_type": "stream",
     "text": [
      "6605/6605 [==============================] - 0s 1us/step\n"
     ]
    }
   ],
   "source": [
    "#normF test accuracy\n",
    "y_test_pred = grid2.predict(X1_test2)\n",
    "ACC = accuracy_score(Y1_test2, y_test_pred)"
   ]
  },
  {
   "cell_type": "code",
   "execution_count": 64,
   "metadata": {},
   "outputs": [
    {
     "name": "stdout",
     "output_type": "stream",
     "text": [
      "35942/35942 [==============================] - 0s 1us/step\n"
     ]
    },
    {
     "data": {
      "image/png": "[encoded data removed]",
      "text/plain": [
       "<matplotlib.figure.Figure at 0x1b12a0c5f8>"
      ]
     },
     "metadata": {},
     "output_type": "display_data"
    }
   ],
   "source": [
    "y_train_prob2 = grid2.predict_proba(X1_train2)\n",
    "#plotting normF train roc_curve\n",
    "fpr, tpr, thresholds = roc_curve(Y1_train2, y_train_prob2[:, 1])\n",
    "roc_auc = auc(fpr, tpr)\n",
    "plt.plot(fpr, tpr, lw=1, alpha=3, label='ROC(ACC = %0.2f, AUC = %0.2f)' % (ACC, roc_auc))\n",
    "plt.xlabel('False Positive Rate')\n",
    "plt.ylabel('True Positive Rate')\n",
    "plt.title('Receiver operating characteristic - Normal Feature NN')\n",
    "plt.legend(loc=\"lower right\")\n",
    "plt.show()"
   ]
  },
  {
   "cell_type": "code",
   "execution_count": 62,
   "metadata": {},
   "outputs": [
    {
     "name": "stdout",
     "output_type": "stream",
     "text": [
      "6605/6605 [==============================] - 0s 1us/step\n"
     ]
    },
    {
     "data": {
      "image/png": "[encoded data removed]",
      "text/plain": [
       "<matplotlib.figure.Figure at 0x1b12954ef0>"
      ]
     },
     "metadata": {},
     "output_type": "display_data"
    }
   ],
   "source": [
    "y_test_prob2 = grid2.predict_proba(X1_test2)\n",
    "#plotting normF test roc_curve\n",
    "fpr, tpr, thresholds = roc_curve(Y1_test2, y_test_prob2[:, 1])\n",
    "roc_auc = auc(fpr, tpr)\n",
    "plt.plot(fpr, tpr, lw=1, alpha=3, label='ROC(ACC = %0.2f, AUC = %0.2f)' % (ACC, roc_auc))\n",
    "plt.xlabel('False Positive Rate')\n",
    "plt.ylabel('True Positive Rate')\n",
    "plt.title('Receiver operating characteristic - Normal Feature NN')\n",
    "plt.legend(loc=\"lower right\")\n",
    "plt.show()"
   ]
  },
  {
   "cell_type": "markdown",
   "metadata": {},
   "source": [
    "##### Chart Events DNN Performance"
   ]
  },
  {
   "cell_type": "code",
   "execution_count": 68,
   "metadata": {},
   "outputs": [
    {
     "name": "stdout",
     "output_type": "stream",
     "text": [
      "35942/35942 [==============================] - 67s 2ms/step\n"
     ]
    },
    {
     "data": {
      "text/plain": [
       "0.9694229592120639"
      ]
     },
     "execution_count": 68,
     "metadata": {},
     "output_type": "execute_result"
    }
   ],
   "source": [
    "#Train Accuracy\n",
    "y_train1_pred = grid1.predict(X1)\n",
    "from sklearn.metrics import *\n",
    "accuracy_score(Y1, y_train1_pred)"
   ]
  },
  {
   "cell_type": "code",
   "execution_count": 67,
   "metadata": {},
   "outputs": [
    {
     "name": "stdout",
     "output_type": "stream",
     "text": [
      "6605/6605 [==============================] - 12s 2ms/step\n"
     ]
    },
    {
     "data": {
      "text/plain": [
       "0.9706283118849357"
      ]
     },
     "execution_count": 67,
     "metadata": {},
     "output_type": "execute_result"
    }
   ],
   "source": [
    "#Test Accuracy\n",
    "y_test1_pred = grid1.predict(X1_test)\n",
    "accuracy_score(Y1_test, y_test1_pred)"
   ]
  },
  {
   "cell_type": "code",
   "execution_count": 83,
   "metadata": {},
   "outputs": [
    {
     "data": {
      "image/png": "[encoded data removed]",
      "text/plain": [
       "<matplotlib.figure.Figure at 0x1b27a903c8>"
      ]
     },
     "metadata": {},
     "output_type": "display_data"
    }
   ],
   "source": [
    "import matplotlib.pyplot as plt\n",
    "from sklearn.metrics import roc_curve, auc\n",
    "%matplotlib inline\n",
    "\n",
    "#plotting train roc_curve\n",
    "fpr, tpr, thresholds = roc_curve(Y1, Y_train1_prob[:, 1])\n",
    "roc_auc = auc(fpr, tpr)\n",
    "plt.plot(fpr, tpr, alpha=4, label='ROC(Accuracy = %0.2f, AUC = %0.2f)' % (96.94, roc_auc))\n",
    "plt.xlabel('False Positive Rate')\n",
    "plt.ylabel('True Positive Rate')\n",
    "plt.title('Receiver operating characteristic - ChartEvents DNN')\n",
    "plt.legend(loc=\"lower right\")\n",
    "plt.show()"
   ]
  },
  {
   "cell_type": "code",
   "execution_count": 84,
   "metadata": {},
   "outputs": [
    {
     "name": "stdout",
     "output_type": "stream",
     "text": [
      "6605/6605 [==============================] - 10s 1ms/step\n"
     ]
    },
    {
     "data": {
      "image/png": "[encoded data removed]",
      "text/plain": [
       "<matplotlib.figure.Figure at 0x2185767da0>"
      ]
     },
     "metadata": {},
     "output_type": "display_data"
    }
   ],
   "source": [
    "#plotting roc_curve\n",
    "Y_test_prob = grid1.predict_proba(X1_test)\n",
    "fpr, tpr, thresholds = roc_curve(Y1_test, Y_test_prob[:, 1])\n",
    "roc_auc = auc(fpr, tpr)\n",
    "plt.plot(fpr, tpr, alpha=4, label='ROC(Accuracy = %0.2f, AUC = %0.2f)' % (97.06, roc_auc))\n",
    "plt.xlabel('False Positive Rate')\n",
    "plt.ylabel('True Positive Rate')\n",
    "plt.title('Receiver operating characteristic - ChartEvents DNN')\n",
    "plt.legend(loc=\"lower right\")\n",
    "plt.show()"
   ]
  },
  {
   "cell_type": "markdown",
   "metadata": {},
   "source": [
    "#### BenchMark LSTM Model Performance"
   ]
  },
  {
   "cell_type": "code",
   "execution_count": 80,
   "metadata": {},
   "outputs": [],
   "source": [
    "lstm_predictions = pd.read_csv(root + 'predictions.csv')\n",
    "columns = ['ICUSTAY_ID', 'Ybm_prob', 'Ybm_true']\n",
    "lstm_predictions.columns = columns"
   ]
  },
  {
   "cell_type": "code",
   "execution_count": 86,
   "metadata": {},
   "outputs": [
    {
     "data": {
      "image/png": "[encoded data removed]",
      "text/plain": [
       "<matplotlib.figure.Figure at 0x21fbd34cc0>"
      ]
     },
     "metadata": {},
     "output_type": "display_data"
    }
   ],
   "source": [
    "Y1_bm_prob = np.array(lstm_predictions['Ybm_prob'])\n",
    "Y1_bm_true = np.array(lstm_predictions['Ybm_true'])\n",
    "\n",
    "#plotting roc_curve\n",
    "fpr, tpr, thresholds = roc_curve(Y1_bm_true, Y1_bm_prob)\n",
    "roc_auc = auc(fpr, tpr)\n",
    "plt.plot(fpr, tpr, alpha=6, label='ROC (Accuracy = %0.2f, AUC = %0.2f)' % (89.9 ,roc_auc))\n",
    "plt.xlabel('False Positive Rate')\n",
    "plt.ylabel('True Positive Rate')\n",
    "plt.title('Receiver operating characteristic - LSTM (Harutyunyan et al)')\n",
    "plt.legend(loc=\"lower right\")\n",
    "plt.show()"
   ]
  },
  {
   "cell_type": "markdown",
   "metadata": {},
   "source": [
    "#### Ensemble of 3 Predictions"
   ]
  },
  {
   "cell_type": "code",
   "execution_count": 89,
   "metadata": {},
   "outputs": [
    {
     "data": {
      "text/html": [
       "<div>\n",
       "<style scoped>\n",
       "    .dataframe tbody tr th:only-of-type {\n",
       "        vertical-align: middle;\n",
       "    }\n",
       "\n",
       "    .dataframe tbody tr th {\n",
       "        vertical-align: top;\n",
       "    }\n",
       "\n",
       "    .dataframe thead th {\n",
       "        text-align: right;\n",
       "    }\n",
       "</style>\n",
       "<table border=\"1\" class=\"dataframe\">\n",
       "  <thead>\n",
       "    <tr style=\"text-align: right;\">\n",
       "      <th></th>\n",
       "      <th>ICUSTAY_ID</th>\n",
       "      <th>ChartDNN_pred</th>\n",
       "      <th>normF_pred</th>\n",
       "    </tr>\n",
       "  </thead>\n",
       "  <tbody>\n",
       "    <tr>\n",
       "      <th>0</th>\n",
       "      <td>298170</td>\n",
       "      <td>0.000056</td>\n",
       "      <td>0.0108658</td>\n",
       "    </tr>\n",
       "    <tr>\n",
       "      <th>1</th>\n",
       "      <td>262940</td>\n",
       "      <td>0.000366</td>\n",
       "      <td>0.00536802</td>\n",
       "    </tr>\n",
       "    <tr>\n",
       "      <th>2</th>\n",
       "      <td>205310</td>\n",
       "      <td>0.001068</td>\n",
       "      <td>0.00406721</td>\n",
       "    </tr>\n",
       "    <tr>\n",
       "      <th>3</th>\n",
       "      <td>279090</td>\n",
       "      <td>0.000096</td>\n",
       "      <td>0.0270403</td>\n",
       "    </tr>\n",
       "    <tr>\n",
       "      <th>4</th>\n",
       "      <td>237650</td>\n",
       "      <td>0.215034</td>\n",
       "      <td>0.0204256</td>\n",
       "    </tr>\n",
       "  </tbody>\n",
       "</table>\n",
       "</div>"
      ],
      "text/plain": [
       "  ICUSTAY_ID  ChartDNN_pred  normF_pred\n",
       "0     298170       0.000056   0.0108658\n",
       "1     262940       0.000366  0.00536802\n",
       "2     205310       0.001068  0.00406721\n",
       "3     279090       0.000096   0.0270403\n",
       "4     237650       0.215034   0.0204256"
      ]
     },
     "execution_count": 89,
     "metadata": {},
     "output_type": "execute_result"
    }
   ],
   "source": [
    "chart_norfF_pred = pd.merge(XY_train_df, XY_train_df2, how = 'inner', left_on = 'ICUSTAY_ID', right_on = 'ICUSTAY_ID')\n",
    "chart_norfF_pred.head()"
   ]
  },
  {
   "cell_type": "code",
   "execution_count": 95,
   "metadata": {},
   "outputs": [
    {
     "data": {
      "text/html": [
       "<div>\n",
       "<style scoped>\n",
       "    .dataframe tbody tr th:only-of-type {\n",
       "        vertical-align: middle;\n",
       "    }\n",
       "\n",
       "    .dataframe tbody tr th {\n",
       "        vertical-align: top;\n",
       "    }\n",
       "\n",
       "    .dataframe thead th {\n",
       "        text-align: right;\n",
       "    }\n",
       "</style>\n",
       "<table border=\"1\" class=\"dataframe\">\n",
       "  <thead>\n",
       "    <tr style=\"text-align: right;\">\n",
       "      <th></th>\n",
       "      <th>ICUSTAY_ID</th>\n",
       "      <th>ChartDNN_pred</th>\n",
       "      <th>normF_pred</th>\n",
       "      <th>Ybm_prob</th>\n",
       "      <th>Ybm_true</th>\n",
       "    </tr>\n",
       "  </thead>\n",
       "  <tbody>\n",
       "    <tr>\n",
       "      <th>0</th>\n",
       "      <td>279090</td>\n",
       "      <td>0.000096</td>\n",
       "      <td>0.0270403</td>\n",
       "      <td>0.037024</td>\n",
       "      <td>0</td>\n",
       "    </tr>\n",
       "    <tr>\n",
       "      <th>1</th>\n",
       "      <td>267000</td>\n",
       "      <td>0.000172</td>\n",
       "      <td>0.223132</td>\n",
       "      <td>0.318073</td>\n",
       "      <td>1</td>\n",
       "    </tr>\n",
       "    <tr>\n",
       "      <th>2</th>\n",
       "      <td>261770</td>\n",
       "      <td>0.000006</td>\n",
       "      <td>0.0354497</td>\n",
       "      <td>0.614406</td>\n",
       "      <td>0</td>\n",
       "    </tr>\n",
       "    <tr>\n",
       "      <th>3</th>\n",
       "      <td>296790</td>\n",
       "      <td>0.000051</td>\n",
       "      <td>0.0541182</td>\n",
       "      <td>0.058790</td>\n",
       "      <td>0</td>\n",
       "    </tr>\n",
       "    <tr>\n",
       "      <th>4</th>\n",
       "      <td>217010</td>\n",
       "      <td>0.974400</td>\n",
       "      <td>0.270199</td>\n",
       "      <td>0.003936</td>\n",
       "      <td>0</td>\n",
       "    </tr>\n",
       "  </tbody>\n",
       "</table>\n",
       "</div>"
      ],
      "text/plain": [
       "  ICUSTAY_ID  ChartDNN_pred normF_pred  Ybm_prob  Ybm_true\n",
       "0     279090       0.000096  0.0270403  0.037024         0\n",
       "1     267000       0.000172   0.223132  0.318073         1\n",
       "2     261770       0.000006  0.0354497  0.614406         0\n",
       "3     296790       0.000051  0.0541182  0.058790         0\n",
       "4     217010       0.974400   0.270199  0.003936         0"
      ]
     },
     "execution_count": 95,
     "metadata": {},
     "output_type": "execute_result"
    }
   ],
   "source": [
    "all_3_predictions = pd.merge(chart_norfF_pred, lstm_predictions, how = 'inner', left_on = 'ICUSTAY_ID', right_on = 'ICUSTAY_ID')\n",
    "all_3_predictions.head()"
   ]
  },
  {
   "cell_type": "code",
   "execution_count": 96,
   "metadata": {},
   "outputs": [
    {
     "name": "stdout",
     "output_type": "stream",
     "text": [
      "(17903, 4)\n"
     ]
    }
   ],
   "source": [
    "data_all = all_3_predictions.values\n",
    "\n",
    "X1_all = np.delete(data_all, 4, axis=1)\n",
    "X1_all = np.delete(X1_all, 0, axis=1)\n",
    "Y1_all = data_all[:,4]\n",
    "X1_all[X1_all == np.nan] = 0.0\n",
    "X1_all = X1_all.astype(float)\n",
    "Y1_all[Y1_all == ''] = 0.0\n",
    "Y1_all = Y1_all.astype(float)\n",
    "X1_all[isnan(X1_all)] = 0.0\n",
    "X1_all = X1_all.astype(float)"
   ]
  },
  {
   "cell_type": "code",
   "execution_count": 130,
   "metadata": {},
   "outputs": [],
   "source": [
    "# class_weight = {0:.8, 1:.2}\n",
    "# \n",
    "LR_fit = LogisticRegression(penalty= 'l1', fit_intercept = True).fit(X1_all, Y1_all, sample_weight=None)"
   ]
  },
  {
   "cell_type": "code",
   "execution_count": 131,
   "metadata": {},
   "outputs": [
    {
     "data": {
      "text/plain": [
       "array([[0.96255121, 0.03744879],\n",
       "       [0.75227908, 0.24772092],\n",
       "       [0.24210907, 0.75789093],\n",
       "       ...,\n",
       "       [0.96584891, 0.03415109],\n",
       "       [0.93960313, 0.06039687],\n",
       "       [0.96984167, 0.03015833]])"
      ]
     },
     "execution_count": 131,
     "metadata": {},
     "output_type": "execute_result"
    }
   ],
   "source": [
    "Y1_all_prob = LR_fit.predict_proba(X1_all)\n",
    "Y1_all_prob"
   ]
  },
  {
   "cell_type": "code",
   "execution_count": 132,
   "metadata": {},
   "outputs": [
    {
     "data": {
      "image/png": "[encoded data removed]",
      "text/plain": [
       "<matplotlib.figure.Figure at 0x21fbd34c18>"
      ]
     },
     "metadata": {},
     "output_type": "display_data"
    }
   ],
   "source": [
    "Y1_all_pred = LR_fit.predict(X1_all)\n",
    "acc_3model = accuracy_score(Y1_all, Y1_all_pred)\n",
    "#plotting roc_curve\n",
    "fpr, tpr, thresholds = roc_curve(Y1_all, Y1_all_prob[:,1])\n",
    "roc_auc = auc(fpr, tpr)\n",
    "plt.plot(fpr, tpr, alpha=6, label='ROC (Accuracy = %0.2f, AUC = %0.2f)' % (acc_3model ,roc_auc))\n",
    "plt.xlabel('False Positive Rate')\n",
    "plt.ylabel('True Positive Rate')\n",
    "plt.title('Receiver operating characteristic - 3 Model ')\n",
    "plt.legend(loc=\"lower right\")\n",
    "plt.show()"
   ]
  }
 ],
 "metadata": {
  "kernelspec": {
   "display_name": "Python 3",
   "language": "python",
   "name": "python3"
  },
  "language_info": {
   "codemirror_mode": {
    "name": "ipython",
    "version": 3
   },
   "file_extension": ".py",
   "mimetype": "text/x-python",
   "name": "python",
   "nbconvert_exporter": "python",
   "pygments_lexer": "ipython3",
   "version": "3.6.4"
  },
  "varInspector": {
   "cols": {
    "lenName": 16,
    "lenType": 16,
    "lenVar": 40
   },
   "kernels_config": {
    "python": {
     "delete_cmd_postfix": "",
     "delete_cmd_prefix": "del ",
     "library": "var_list.py",
     "varRefreshCmd": "print(var_dic_list())"
    },
    "r": {
     "delete_cmd_postfix": ") ",
     "delete_cmd_prefix": "rm(",
     "library": "var_list.r",
     "varRefreshCmd": "cat(var_dic_list()) "
    }
   },
   "types_to_exclude": [
    "module",
    "function",
    "builtin_function_or_method",
    "instance",
    "_Feature"
   ],
   "window_display": false
  }
 },
 "nbformat": 4,
 "nbformat_minor": 2
}
